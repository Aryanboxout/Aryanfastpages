{
 "cells": [
  {
   "attachments": {},
   "cell_type": "markdown",
   "metadata": {},
   "source": [
    "# week 7"
   ]
  },
  {
   "attachments": {},
   "cell_type": "markdown",
   "metadata": {},
   "source": [
    "An array list is a data structure that is similar to an array, but which can grow and shrink in size as needed. Unlike an array, which has a fixed size, an array list can be dynamically resized to accommodate more or fewer elements. This makes it a useful data structure for applications where the number of elements is not known in advance, or where the data set may change over time.\n",
    "\n",
    "Array lists are typically implemented using arrays, with additional logic to handle resizing the underlying array when necessary. This means that array lists have many of the same properties as arrays, including random access to elements and good performance for common operations like inserting and deleting elements. However, they also have some additional overhead associated with managing the underlying array, which can make them slower than arrays in some cases.\n",
    "\n",
    "Array lists are commonly used in applications where the data set is not known in advance, or where it is expected to change over time. They are also useful when the data needs to be sorted, since array lists can be easily sorted using standard sorting algorithms.\n",
    "\n",
    "\n",
    "Specifically In Java, an array list is a class that is part of the Java Collection Framework. It is implemented as an array of objects, with additional logic to resize the array as needed. To create an array list, you would use the following syntax:"
   ]
  },
  {
   "cell_type": "code",
   "execution_count": null,
   "metadata": {},
   "outputs": [],
   "source": [
    "ArrayList<Type> list = new ArrayList<>();\n"
   ]
  },
  {
   "attachments": {},
   "cell_type": "markdown",
   "metadata": {},
   "source": [
    "Here, Type is the type of elements that the array list will hold, and list is the name of the array list object. Once you have created the array list, you can add elements to it using the add() method, like this:"
   ]
  },
  {
   "cell_type": "code",
   "execution_count": null,
   "metadata": {},
   "outputs": [],
   "source": [
    "list.add(element);"
   ]
  },
  {
   "attachments": {},
   "cell_type": "markdown",
   "metadata": {},
   "source": [
    "You can access elements in the array list using the get() method, like this:"
   ]
  },
  {
   "cell_type": "code",
   "execution_count": null,
   "metadata": {},
   "outputs": [],
   "source": [
    "Type element = list.get(index);\n"
   ]
  },
  {
   "attachments": {},
   "cell_type": "markdown",
   "metadata": {},
   "source": [
    "Here, index is the index of the element you want to retrieve. Array lists are indexed starting from 0, so the first element in the array list has an index of 0, the second element has an index of 1, and so on.\n",
    "\n",
    "Array lists in Java support many of the same operations as arrays, including adding, removing, and accessing elements. However, they also provide additional methods for managing the size of the array list and for sorting the elements in the array list. For more information, you can refer to the Java documentation for the ArrayList class."
   ]
  },
  {
   "attachments": {},
   "cell_type": "markdown",
   "metadata": {},
   "source": [
    "Hacks"
   ]
  },
  {
   "cell_type": "code",
   "execution_count": 2,
   "metadata": {},
   "outputs": [
    {
     "name": "stdout",
     "output_type": "stream",
     "text": [
      "Before Sorting:\n",
      "AA\n",
      "ZZ\n",
      "CC\n",
      "FF\n",
      "ArrayList in descending order:\n",
      "ZZ\n",
      "FF\n",
      "CC\n",
      "AA\n"
     ]
    }
   ],
   "source": [
    "import java.util.*;\n",
    "public class JavaExample  {\n",
    "\n",
    "  public static void main(String args[]){\n",
    "    ArrayList<String> arraylist = new ArrayList<String>();\n",
    "    arraylist.add(\"AA\");\n",
    "    arraylist.add(\"ZZ\");\n",
    "    arraylist.add(\"CC\");\n",
    "    arraylist.add(\"FF\");\n",
    "\n",
    "    /*Unsorted List: ArrayList content before sorting*/\n",
    "    System.out.println(\"Before Sorting:\");\n",
    "    for(String str: arraylist){\n",
    "      System.out.println(str);\n",
    "    }\n",
    "\n",
    "    /* Sorting in decreasing order*/\n",
    "    Collections.sort(arraylist, Collections.reverseOrder());\n",
    "\n",
    "    /* Sorted List in reverse order*/\n",
    "    System.out.println(\"ArrayList in descending order:\");\n",
    "    for(String str: arraylist){\n",
    "      System.out.println(str);\n",
    "    }\n",
    "  }\n",
    "}\n",
    "\n",
    "JavaExample.main(null);"
   ]
  },
  {
   "cell_type": "code",
   "execution_count": null,
   "metadata": {},
   "outputs": [],
   "source": []
  },
  {
   "cell_type": "markdown",
   "metadata": {},
   "source": []
  },
  {
   "cell_type": "code",
   "execution_count": null,
   "metadata": {},
   "outputs": [],
   "source": [
    "// Java Program for copying one ArrayList to another\n",
    "\n",
    "import java.io.*;\n",
    "import java.util.ArrayList;\n",
    "\n",
    "class GFG {\n",
    "\tpublic static void main(String[] args)\n",
    "\t{\n",
    "\t\t// creation of ArrayList of Integers\n",
    "\t\tArrayList<Integer> gfg = new ArrayList<>();\n",
    "\n",
    "\t\t// adding elements to first ArrayList\n",
    "\t\tgfg.add(10);\n",
    "\t\tgfg.add(21);\n",
    "\t\tgfg.add(22);\n",
    "\t\tgfg.add(35);\n",
    "\n",
    "\t\t// Assigning the first reference to second\n",
    "\t\tArrayList<Integer> gfg2 = gfg;\n",
    "\n",
    "\t\t// Iterating over second ArrayList\n",
    "\t\tSystem.out.println(\n",
    "\t\t\t\"-----Iterating over the second ArrayList----\");\n",
    "\t\tfor (Integer value : gfg2) {\n",
    "\t\t\tSystem.out.println(value);\n",
    "\t\t}\n",
    "\n",
    "\t\t// here we changed the third element to 23\n",
    "\t\t// we changed in second list and you can\n",
    "\t\t// see the same change in the first Arraylist\n",
    "\t\tgfg2.set(2, 23);\n",
    "\n",
    "\t\tSystem.out.println(\"third element of first list =\"\n",
    "\t\t\t\t\t\t+ gfg.get(2));\n",
    "\t\tSystem.out.println(\"third element of second list =\"\n",
    "\t\t\t\t\t\t+ gfg2.get(2));\n",
    "\t}\n",
    "}\n",
    "\n",
    "GFG.main(null);"
   ]
  }
 ],
 "metadata": {
  "kernelspec": {
   "display_name": "Java",
   "language": "java",
   "name": "java"
  },
  "language_info": {
   "codemirror_mode": "java",
   "file_extension": ".jshell",
   "mimetype": "text/x-java-source",
   "name": "java",
   "pygments_lexer": "java",
   "version": "18.0.2.1+1-1"
  },
  "orig_nbformat": 4
 },
 "nbformat": 4,
 "nbformat_minor": 2
}
