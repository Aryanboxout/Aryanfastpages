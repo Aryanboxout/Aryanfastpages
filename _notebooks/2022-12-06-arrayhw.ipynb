{
 "cells": [
  {
   "cell_type": "code",
   "execution_count": 2,
   "metadata": {
    "vscode": {
     "languageId": "java"
    }
   },
   "outputs": [
    {
     "name": "stdout",
     "output_type": "stream",
     "text": [
      "Before Sorting:\n",
      "AA\n",
      "ZZ\n",
      "CC\n",
      "FF\n",
      "ArrayList in descending order:\n",
      "ZZ\n",
      "FF\n",
      "CC\n",
      "AA\n"
     ]
    }
   ],
   "source": [
    "import java.util.*;\n",
    "public class JavaExample  {\n",
    "\n",
    "  public static void main(String args[]){\n",
    "    ArrayList<String> arraylist = new ArrayList<String>();\n",
    "    arraylist.add(\"AA\");\n",
    "    arraylist.add(\"ZZ\");\n",
    "    arraylist.add(\"CC\");\n",
    "    arraylist.add(\"FF\");\n",
    "\n",
    "    /*Unsorted List: ArrayList content before sorting*/\n",
    "    System.out.println(\"Before Sorting:\");\n",
    "    for(String str: arraylist){\n",
    "      System.out.println(str);\n",
    "    }\n",
    "\n",
    "    /* Sorting in decreasing order*/\n",
    "    Collections.sort(arraylist, Collections.reverseOrder());\n",
    "\n",
    "    /* Sorted List in reverse order*/\n",
    "    System.out.println(\"ArrayList in descending order:\");\n",
    "    for(String str: arraylist){\n",
    "      System.out.println(str);\n",
    "    }\n",
    "  }\n",
    "}\n",
    "\n",
    "JavaExample.main(null);"
   ]
  },
  {
   "cell_type": "code",
   "execution_count": null,
   "metadata": {
    "vscode": {
     "languageId": "java"
    }
   },
   "outputs": [],
   "source": [
    "// Java Program for copying one ArrayList to another\n",
    "\n",
    "import java.io.*;\n",
    "import java.util.ArrayList;\n",
    "\n",
    "class GFG {\n",
    "\tpublic static void main(String[] args)\n",
    "\t{\n",
    "\t\t// creation of ArrayList of Integers\n",
    "\t\tArrayList<Integer> gfg = new ArrayList<>();\n",
    "\n",
    "\t\t// adding elements to first ArrayList\n",
    "\t\tgfg.add(10);\n",
    "\t\tgfg.add(21);\n",
    "\t\tgfg.add(22);\n",
    "\t\tgfg.add(35);\n",
    "\n",
    "\t\t// Assigning the first reference to second\n",
    "\t\tArrayList<Integer> gfg2 = gfg;\n",
    "\n",
    "\t\t// Iterating over second ArrayList\n",
    "\t\tSystem.out.println(\n",
    "\t\t\t\"-----Iterating over the second ArrayList----\");\n",
    "\t\tfor (Integer value : gfg2) {\n",
    "\t\t\tSystem.out.println(value);\n",
    "\t\t}\n",
    "\n",
    "\t\t// here we changed the third element to 23\n",
    "\t\t// we changed in second list and you can\n",
    "\t\t// see the same change in the first Arraylist\n",
    "\t\tgfg2.set(2, 23);\n",
    "\n",
    "\t\tSystem.out.println(\"third element of first list =\"\n",
    "\t\t\t\t\t\t+ gfg.get(2));\n",
    "\t\tSystem.out.println(\"third element of second list =\"\n",
    "\t\t\t\t\t\t+ gfg2.get(2));\n",
    "\t}\n",
    "}\n",
    "\n",
    "GFG.main(null);"
   ]
  }
 ],
 "metadata": {
  "kernelspec": {
   "display_name": "Java",
   "language": "java",
   "name": "java"
  },
  "language_info": {
   "codemirror_mode": "java",
   "file_extension": ".jshell",
   "mimetype": "text/x-java-source",
   "name": "Java",
   "pygments_lexer": "java",
   "version": "18.0.2.1+1-1"
  },
  "orig_nbformat": 4
 },
 "nbformat": 4,
 "nbformat_minor": 2
}
