{
 "cells": [
  {
   "cell_type": "markdown",
   "metadata": {},
   "source": [
    "Notes-\n",
    "\n",
    "\n",
    "The simplest if-statement has two parts – a boolean \"test\" within parentheses ( ) followed\n",
    "by \"body\" block of statements within curly braces { }. The test can be any expression that\n",
    "evaluates to a boolean value – true or false – value (boolean expressions are detailed\n",
    "below). The if-statement evaluates the test and then runs the body code only if the test is\n",
    "true. If the test is false, the body is skipped.\n",
    "Another common form of if-statement adds an \"else\" clause such as with the code below\n",
    "which prints one message or the other...\n",
    "\n",
    "\n",
    "if(turnedOn == true) is the same as if(turnedOn)\n",
    "\n",
    "if(turnedOn == false) is the same as if(!turnedOn)\n",
    "\n",
    "\n"
   ]
  },
  {
   "cell_type": "markdown",
   "metadata": {},
   "source": [
    "Implementing Boolean into if else statements"
   ]
  },
  {
   "cell_type": "code",
   "execution_count": 3,
   "metadata": {
    "vscode": {
     "languageId": "java"
    }
   },
   "outputs": [
    {
     "name": "stdout",
     "output_type": "stream",
     "text": [
      "Go to sleep\n"
     ]
    }
   ],
   "source": [
    "boolean isTired = true; // setting boolean to true.\n",
    "if(isTired) { // isTired is the same thing as if(isTired == True)\n",
    "   System.out.println(\"Go to sleep\");\n",
    "} else { \n",
    "    System.out.println(\"KeepWorking\");\n",
    "}"
   ]
  },
  {
   "cell_type": "markdown",
   "metadata": {},
   "source": [
    "if-elseif-elseif-elsif-else statement, 5 or more conditions"
   ]
  },
  {
   "cell_type": "code",
   "execution_count": 4,
   "metadata": {
    "vscode": {
     "languageId": "java"
    }
   },
   "outputs": [
    {
     "name": "stdout",
     "output_type": "stream",
     "text": [
      "Tuesday\n"
     ]
    }
   ],
   "source": [
    "int day= 3;\n",
    "\n",
    "if(day==1){\n",
    "    System.out.println(\"Sunday\");\n",
    "}\n",
    "else if(day==2){\n",
    "    System.out.println(\"Monday\");\n",
    "\n",
    "}\n",
    "else if(day==3){\n",
    "    System.out.println(\"Tuesday\");\n",
    "}\n",
    "else if(day==4){\n",
    "    System.out.println(\"Wednesday\");\n",
    "}\n",
    "else if(day==5){\n",
    "    System.out.println(\"Thursday\");\n",
    "}\n",
    "else if(day==6){\n",
    "    System.out.println(\"Friday\");\n",
    "}\n",
    "else if(day==7){\n",
    "    System.out.println(\"Saturday\");\n",
    "}\n"
   ]
  },
  {
   "cell_type": "markdown",
   "metadata": {},
   "source": [
    "Now let's switch up!\n",
    "Time to make things easier and use switch case\n",
    "\n",
    "A switch statement allows a variable to be tested for equality against a list of values. Each value is called a case, and the variable being switched on is checked for each switch case."
   ]
  },
  {
   "cell_type": "code",
   "execution_count": 5,
   "metadata": {
    "vscode": {
     "languageId": "java"
    }
   },
   "outputs": [
    {
     "name": "stdout",
     "output_type": "stream",
     "text": [
      "Tuesday\n"
     ]
    }
   ],
   "source": [
    "int day=3;\n",
    "\n",
    "switch(day){\n",
    "    \n",
    "    case 1:\n",
    "        System.out.println(\"Sunday\");\n",
    "         break;\n",
    "    case 2:\n",
    "        System.out.println(\"Monday\");\n",
    "        break;\n",
    "     case 3:\n",
    "        System.out.println(\"Tuesday\");\n",
    "        break;\n",
    "    case 4:\n",
    "        System.out.println(\"Wednesday\");\n",
    "         break;\n",
    "    case 5:\n",
    "        System.out.println(\"Thursday\");\n",
    "         break;\n",
    "    case 6:\n",
    "         System.out.println(\"Friday\");\n",
    "          break;\n",
    "     case 7:\n",
    "          System.out.println(\"Saturday\");\n",
    "           break;\n",
    "          \n",
    "}"
   ]
  },
  {
   "cell_type": "markdown",
   "metadata": {},
   "source": [
    "DeMorgan’s laws were developed by Augustus De Morgan in the 1800s. They show how to handle the negation of a complex conditional, which is a conditional statement with more than one condition joined by an and (&&) or or (||), such as (x < 3) && (y > 2)\n",
    "\n"
   ]
  },
  {
   "cell_type": "code",
   "execution_count": null,
   "metadata": {
    "vscode": {
     "languageId": "java"
    }
   },
   "outputs": [],
   "source": [
    "int x = 4, y = 3;\n",
    "if (!(x < 3 || y > 2))\n",
    "{\n",
    "   System.out.println(\"True\");\n",
    "}\n",
    "else\n",
    "{\n",
    "   System.out.println(\"False\");\n",
    "}"
   ]
  },
  {
   "cell_type": "code",
   "execution_count": null,
   "metadata": {
    "vscode": {
     "languageId": "java"
    }
   },
   "outputs": [],
   "source": [
    "int x = 4, y = 3;\n",
    "if (!(x < 3 && y > 2))\n",
    "{\n",
    "   System.out.println(\"True);\n",
    "}\n",
    "else\n",
    "{\n",
    "   System.out.println(\"False\");\n",
    "}"
   ]
  }
 ],
 "metadata": {
  "kernelspec": {
   "display_name": "Java",
   "language": "java",
   "name": "java"
  },
  "language_info": {
   "codemirror_mode": "java",
   "file_extension": ".jshell",
   "mimetype": "text/x-java-source",
   "name": "Java",
   "pygments_lexer": "java",
   "version": "18.0.2.1+1-1"
  },
  "orig_nbformat": 4
 },
 "nbformat": 4,
 "nbformat_minor": 2
}
