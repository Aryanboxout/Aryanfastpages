{
 "cells": [
  {
   "cell_type": "code",
   "execution_count": null,
   "metadata": {},
   "outputs": [],
   "source": []
  },
  {
   "cell_type": "markdown",
   "metadata": {},
   "source": [
    "I'm Aryan the Dev Ops engineer for the prometheus team, So for general information we use VS code has our IDE Integrated development environment. We then use docker to build and run our website. We use git pull to then update our site with changes.\n",
    "\n",
    "Cloudfare is used to run the frontend html code Cloudflare is a global network designed to make everything you connect to the Internet secure, private, fast, and reliable. \n",
    "\n",
    "After diagram**\n",
    "\n",
    "This is the NGinx files with the changes made we use local port 8018\n",
    "\n",
    "The file name is listed in the bottom\n",
    "\n",
    "\n",
    "I do testing \n",
    "\n",
    "./mvnw spring-boot:run\n",
    "\n",
    "\n",
    "\n",
    "\n",
    "\n",
    "\n"
   ]
  }
 ],
 "metadata": {
  "kernelspec": {
   "display_name": "Java",
   "language": "java",
   "name": "java"
  },
  "language_info": {
   "name": "java",
   "version": "3.10.0"
  },
  "orig_nbformat": 4,
  "vscode": {
   "interpreter": {
    "hash": "aee8b7b246df8f9039afb4144a1f6fd8d2ca17a180786b69acc140d282b71a49"
   }
  }
 },
 "nbformat": 4,
 "nbformat_minor": 2
}
