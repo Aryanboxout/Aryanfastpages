{
 "cells": [
  {
   "attachments": {},
   "cell_type": "markdown",
   "metadata": {},
   "source": [
    "# vocab for weeks 1-6"
   ]
  },
  {
   "attachments": {},
   "cell_type": "markdown",
   "metadata": {},
   "source": [
    "A for loop is a type of loop in Java that allows you to iterate over a collection of elements, such as an array. It has a syntax that looks like this:"
   ]
  },
  {
   "cell_type": "code",
   "execution_count": null,
   "metadata": {},
   "outputs": [],
   "source": [
    "for (initialization; condition; increment) {\n",
    "    // code to be executed\n",
    "  }\n",
    "  "
   ]
  },
  {
   "attachments": {},
   "cell_type": "markdown",
   "metadata": {},
   "source": [
    "The enhanced for loop is similar to a for loop, but it allows you to iterate over a collection of elements without having to worry about the index. It has a syntax that looks like this:\n",
    "\n",
    "for (type element : array) {\n",
    "  // code to be executed\n",
    "}\n",
    "\n",
    "\n",
    "A while loop is a type of loop in Java that continues to execute its code block as long as a specified condition is true. It has a syntax that looks like this:\n",
    "\n",
    "A do while loop is similar to a while loop, but it guarantees that the code block will be \n",
    "\n",
    "do {\n",
    "  // code to be executed\n",
    "} while (condition);\n",
    "\n"
   ]
  },
  {
   "attachments": {},
   "cell_type": "markdown",
   "metadata": {},
   "source": [
    "Nested loops are loops that are placed inside other loops. This allows you to iterate over multiple collections at the same time. For example, you could use a nested for loop to iterate over the elements of two different arrays.\n",
    "\n",
    "Creating a class in Java involves defining a new data type. In order to create a class, you use the class keyword followed by the name of the class. There are certain naming conventions that should be followed when choosing a name for a class. For example, the name of a class should start with a capital letter, and it should use camel case (e.g. \"MyClass\").\n",
    "\n",
    "A constructor is a special type of method that is used to create and initialize an object. A constructor is called when an object is created, and it has the same name as the class. Unlike other methods, a constructor does not have a return type, not even void. This is because a constructor is not a function that returns a value, but rather it is used to initialize the object.\n",
    "\n",
    "Accessor methods, also known as getter methods, are used to retrieve the value of a private field in a class. For example, if a class has a private field named name, it might have a getter method named getName() that returns the value of that field. This allows other classes to access the value of the private field without being able to modify it directly.\n",
    "\n",
    "Mutator methods, also known as setter methods, are used to modify the value of a private field in a class. For example, if a class has a private field named name, it might have a setter method named setName() that allows you to change the value of that field. This allows other classes to modify the value of the private field without being able to access it directly. Setter methods typically have a void return type, because they do not return a value.\n",
    "\n",
    "Static variables, also known as class variables, are variables that are associated with a class rather than with an individual object. They are defined using the static keyword, and they can be accessed using the class name rather than an object reference. For example:\n",
    "\n"
   ]
  },
  {
   "cell_type": "code",
   "execution_count": null,
   "metadata": {},
   "outputs": [],
   "source": [
    "public class MyClass {\n",
    "    public static int count = 0;\n",
    "  \n",
    "    public static void incrementCount() {\n",
    "      count++;\n",
    "    }\n",
    "  }\n",
    "  "
   ]
  },
  {
   "attachments": {},
   "cell_type": "markdown",
   "metadata": {},
   "source": [
    "n this example, the count variable is a static variable"
   ]
  }
 ],
 "metadata": {
  "kernelspec": {
   "display_name": "Java",
   "language": "java",
   "name": "java"
  },
  "language_info": {
   "name": "java"
  },
  "orig_nbformat": 4
 },
 "nbformat": 4,
 "nbformat_minor": 2
}
