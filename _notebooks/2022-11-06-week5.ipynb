{
 "cells": [
  {
   "cell_type": "markdown",
   "metadata": {},
   "source": [
    "\n",
    "\n",
    "# Writing classes-Week 5\n",
    "\n",
    "\n",
    "\n",
    "\n",
    "\n"
   ]
  },
  {
   "cell_type": "markdown",
   "metadata": {},
   "source": [
    "\n",
    "\n",
    "\n",
    " Class is a set of object which shares common characteristics/ behavior and common properties/ attributes.\n",
    " Class is not a real world entity. It is just a template or blueprint or prototype from which objects are created.\n",
    "Class does not occupy memory.\n",
    " Class is a group of variables of different data types and group of methods.\n",
    "\n",
    "A class in java can contain:\n",
    "• data member\n",
    "• method\n",
    "• constructor\n",
    "• nested class and \n",
    "• interface\n",
    "\n",
    "\n",
    "A class is a user defined blueprint or prototype from which objects are created. It represents the set of properties or methods that are common to all objects of one type. In general, class declarations can include these components, in order: \n",
    "\n",
    "Modifiers: A class can be public or has default access (Refer this for details).\n",
    "Class keyword: class keyword is used to create a class.\n",
    "Class name: The name should begin with an initial letter (capitalized by convention).\n",
    "Superclass(if any): The name of the class’s parent (superclass), if any, preceded by the keyword extends. A class can only extend (subclass) one parent.\n",
    "Interfaces(if any): A comma-separated list of interfaces implemented by the class, if any, preceded by the keyword implements. A class can implement more than one interface.\n",
    "Body: The class body is surrounded by braces, { }.\n",
    "Constructors are used for initializing new objects. Fields are variables that provide the state of the class and its objects, and methods are used to implement the behavior of the class and its objects.\n",
    "\n",
    "\n",
    "\n",
    "\n",
    "\n",
    "Homework Assigned\n",
    "\n",
    "FRQ 2021 1a 3a"
   ]
  },
  {
   "cell_type": "code",
   "execution_count": null,
   "metadata": {},
   "outputs": [],
   "source": [
    "//1a\n",
    "\n",
    "public int scoreGuess(String guess)\n",
    "{\n",
    "  int count = 0;\n",
    "\n",
    "  for(int i = 0; i < secret.length(); i++)\n",
    "  {\n",
    "    int j = i + guess.length();\n",
    "\n",
    "    if(j <= secret.length() && secret.substring(i, j).equals(guess))\n",
    "      count++;\n",
    "  }\n",
    "\n",
    "  return count * (guess.length() * guess.length());\n",
    "}"
   ]
  },
  {
   "cell_type": "code",
   "execution_count": null,
   "metadata": {},
   "outputs": [],
   "source": [
    "//3a\n",
    "\n",
    "public void addMembers(String[] names, int gradYear)\n",
    "{\n",
    "  for(String name : names)\n",
    "    memberList.add(new MemberInfo(name, gradYear, true));\n",
    "}"
   ]
  }
 ],
 "metadata": {
  "kernelspec": {
   "display_name": "Java",
   "language": "java",
   "name": "java"
  },
  "language_info": {
   "name": "java"
  },
  "orig_nbformat": 4
 },
 "nbformat": 4,
 "nbformat_minor": 2
}
