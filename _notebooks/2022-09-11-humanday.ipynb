{
 "cells": [
  {
   "cell_type": "markdown",
   "metadata": {},
   "source": [
    "Takeaways\n",
    "\n",
    "- It is necessary for me to have a good state of mind to maximize my efficiency\n",
    "- A happy coder is the best coder\n",
    "\n",
    "I am grateful for......\n",
    "\n",
    "1) A family\n",
    "2) Good Friends\n",
    "3) A good education and support system\n",
    "4) Being brought up in a good community"
   ]
  }
 ],
 "metadata": {
  "kernelspec": {
   "display_name": "Python 3.10.0 64-bit",
   "language": "python",
   "name": "python3"
  },
  "language_info": {
   "name": "python",
   "version": "3.10.0"
  },
  "orig_nbformat": 4,
  "vscode": {
   "interpreter": {
    "hash": "aee8b7b246df8f9039afb4144a1f6fd8d2ca17a180786b69acc140d282b71a49"
   }
  }
 },
 "nbformat": 4,
 "nbformat_minor": 2
}
