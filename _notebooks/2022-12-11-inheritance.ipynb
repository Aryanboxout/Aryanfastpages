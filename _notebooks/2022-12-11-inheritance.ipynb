{
 "cells": [
  {
   "attachments": {},
   "cell_type": "markdown",
   "metadata": {},
   "source": [
    "# Unit 9 Inheritance Lesson Post\n",
    "> Unit 9 Inheritance Lesson\n",
    "\n",
    "- toc: true\n",
    "- description: Unit 9 Inheritance lesson post for AP CSA\n",
    "- categories: [jupyter]\n",
    "- title: Unit 9 Inheritance Lesson Post\n",
    "- author: Aryan Shah, Dylan Luo, Ritvik Keerthi, and Rohan Malipeddi\n",
    "- show_tags: true\n",
    "- comments: true"
   ]
  },
  {
   "cell_type": "code",
   "execution_count": 2,
   "metadata": {
    "vscode": {
     "languageId": "java"
    }
   },
   "outputs": [
    {
     "name": "stdout",
     "output_type": "stream",
     "text": [
      "Programmer salary is: 40000.0\n",
      "Bonus of Programmer is: 10000.0\n"
     ]
    }
   ],
   "source": [
    "class Employee{  \n",
    "  float salary=40000f;  \n",
    "}\n",
    "\n",
    "class Programmer extends Employee{  \n",
    "  float bonus=10000f;  \n",
    "  public static void main(String args[]){  \n",
    "    Programmer p=new Programmer();  \n",
    "    System.out.println(\"Programmer salary is: \"+p.salary);  \n",
    "    System.out.println(\"Bonus of Programmer is: \"+p.bonus);  \n",
    "  }\n",
    "}\n",
    "\n",
    "   Programmer.main(null);"
   ]
  },
  {
   "attachments": {},
   "cell_type": "markdown",
   "metadata": {},
   "source": [
    "In Java, a constructor is a special method that is used to create and initialize an object. It has the same name as the class and is called when a new instance of the class is created.\n",
    "\n",
    "Constructors for subclasses work in a similar way to constructors for regular classes, but with some important differences. When creating a subclass, you typically want to reuse the constructor from the parent class (also known as the \"superclass\") and add some additional functionality. This is done using the \"super\" keyword.\n",
    "\n",
    "Here is an example of a simple class hierarchy with a parent class called \"Animal\" and a child class called \"Dog\":\n",
    "\n"
   ]
  },
  {
   "cell_type": "code",
   "execution_count": null,
   "metadata": {
    "vscode": {
     "languageId": "java"
    }
   },
   "outputs": [],
   "source": [
    "public class Animal {\n",
    "    // Constructor for the Animal class\n",
    "    public Animal() {\n",
    "      // Initialize the object\n",
    "    }\n",
    "  }\n",
    "  \n",
    "  public class Dog extends Animal {\n",
    "    // Constructor for the Dog class\n",
    "    public Dog() {\n",
    "      // Call the constructor of the superclass\n",
    "      super();\n",
    "      \n",
    "      // Initialize the object\n",
    "    }\n",
    "  }"
   ]
  },
  {
   "attachments": {},
   "cell_type": "markdown",
   "metadata": {},
   "source": [
    "In the example above, the constructor for the \"Dog\" class calls the constructor of the \"Animal\" class using the \"super\" keyword. This ensures that the object is properly initialized according to the parent class's constructor, and then additional initialization can be done in the subclass's constructor.\n",
    "\n",
    "It is also possible to call a specific constructor of the superclass by specifying the parameters, like this:"
   ]
  },
  {
   "attachments": {},
   "cell_type": "markdown",
   "metadata": {},
   "source": [
    "In this example using inheritance allows us to inherit the salary of the programmer by extending the superclass of employee\n",
    "\n",
    "\n",
    "Here is another example of writing constructors for subclasses"
   ]
  },
  {
   "cell_type": "code",
   "execution_count": null,
   "metadata": {
    "vscode": {
     "languageId": "java"
    }
   },
   "outputs": [],
   "source": [
    "public class Dog extends Animal {\n",
    "  // Constructor for the Dog class\n",
    "  public Dog(String name) {\n",
    "    // Call the constructor of the superclass with a specific parameter\n",
    "    super(name);\n",
    "    \n",
    "    // Initialize the object\n",
    "  }\n",
    "}"
   ]
  },
  {
   "attachments": {},
   "cell_type": "markdown",
   "metadata": {},
   "source": [
    "In this case, the \"Dog\" class's constructor calls the \"Animal\" class's constructor with a specific parameter (the \"name\" of the animal). This allows the subclass to reuse the functionality of the parent class's constructor, but with some additional customization."
   ]
  },
  {
   "cell_type": "code",
   "execution_count": 6,
   "metadata": {
    "vscode": {
     "languageId": "java"
    }
   },
   "outputs": [
    {
     "name": "stdout",
     "output_type": "stream",
     "text": [
      "Dani\n",
      "1\n"
     ]
    }
   ],
   "source": [
    "class Person\n",
    "{\n",
    "   private String name;\n",
    "\n",
    "   public Person(String theName)\n",
    "   {\n",
    "      this.name = theName;\n",
    "   }\n",
    "\n",
    "   public String getName()\n",
    "   {\n",
    "      return name;\n",
    "   }\n",
    "\n",
    "   public boolean setName(String theNewName)\n",
    "   {\n",
    "      if (theNewName != null)\n",
    "      {\n",
    "         this.name = theNewName;\n",
    "         return true;\n",
    "      }\n",
    "      return false;\n",
    "   }\n",
    "}\n",
    "\n",
    "public class Employee extends Person\n",
    "{\n",
    "   private int id;\n",
    "   public static int nextId = 1;\n",
    "\n",
    "   public Employee(String theName)\n",
    "   {\n",
    "      super(theName);\n",
    "      id = nextId;\n",
    "      nextId++;\n",
    "   }\n",
    "\n",
    "   public int getId()\n",
    "   {\n",
    "      return id;\n",
    "   }\n",
    "\n",
    "   public static void main(String[] args)\n",
    "   {\n",
    "      Employee emp = new Employee(\"Dani\");\n",
    "      System.out.println(emp.getName());\n",
    "      System.out.println(emp.getId());\n",
    "   }\n",
    "}\n",
    "\n",
    "Employee.main(null);\n"
   ]
  },
  {
   "attachments": {},
   "cell_type": "markdown",
   "metadata": {},
   "source": [
    "Example of polymorphism in Java"
   ]
  },
  {
   "cell_type": "code",
   "execution_count": 5,
   "metadata": {
    "vscode": {
     "languageId": "java"
    }
   },
   "outputs": [
    {
     "name": "stdout",
     "output_type": "stream",
     "text": [
      "Physical activity\n",
      "Kick the ball\n",
      "Shoot the ball\n",
      "Hit a home run\n"
     ]
    }
   ],
   "source": [
    "// Superclass Sport\n",
    "public class Sport {\n",
    "    // action() method instantiated\n",
    "\tpublic void action() {\n",
    "        System.out.println(\"Physical activity\");\n",
    "    }\n",
    "}\n",
    "\n",
    "// Subclass Soccer\n",
    "class Soccer extends Sport {\n",
    "    // Soccer implementation of the action() method\n",
    "    public void action() {\n",
    "        System.out.println(\"Kick the ball\");\n",
    "    }\n",
    "}\n",
    "\n",
    "// Subclass Basketball\n",
    "class Basketball extends Sport {\n",
    "    // Basketball implementation of the action() method\n",
    "    public void action() {\n",
    "        System.out.println(\"Shoot the ball\");\n",
    "    }\n",
    "}\n",
    "\n",
    "// Subclass Baseball\n",
    "class Baseball extends Sport {\n",
    "    // Baseball implementation of the action() method\n",
    "    public void action() {\n",
    "        System.out.println(\"Hit a home run\");\n",
    "    }\n",
    "}\n",
    "\n",
    "// Main class for running the code\n",
    "class Main {\n",
    "    public static void main(String[] args) {\n",
    "        // Creating objects with the same reference type but different object types. The classes above follow a class hierarchy.\n",
    "        Sport sport = new Sport();\n",
    "        Sport sport1 = new Soccer();\n",
    "        Sport sport2 = new Basketball();\n",
    "        Sport sport3 = new Baseball();\n",
    "        sport.action();\n",
    "        sport1.action();\n",
    "        sport2.action();\n",
    "        sport3.action();\n",
    "    }\n",
    "}\n",
    "\n",
    "Main.main(null);"
   ]
  },
  {
   "attachments": {},
   "cell_type": "markdown",
   "metadata": {},
   "source": [
    "Overriding methods"
   ]
  },
  {
   "cell_type": "code",
   "execution_count": 4,
   "metadata": {
    "vscode": {
     "languageId": "java"
    }
   },
   "outputs": [
    {
     "name": "stdout",
     "output_type": "stream",
     "text": [
      "Vehicle is running\n"
     ]
    }
   ],
   "source": [
    "class Vehicle{  \n",
    "    void run(){System.out.println(\"Vehicle is running\");}  \n",
    "  }  \n",
    "  //Creating a child class  \n",
    "  class Bike extends Vehicle{  \n",
    "    public static void main(String args[]){  \n",
    "    //creating an instance of child class  \n",
    "    Bike obj = new Bike();  \n",
    "    //calling the method with child class instance  \n",
    "    obj.run();  \n",
    "    }  \n",
    "  }  \n",
    "\n",
    "  Bike.main(null);"
   ]
  },
  {
   "attachments": {},
   "cell_type": "markdown",
   "metadata": {},
   "source": [
    "Homework(Due Wednesday):\n",
    "\n",
    "\n"
   ]
  }
 ],
 "metadata": {
  "kernelspec": {
   "display_name": "Java",
   "language": "java",
   "name": "java"
  },
  "language_info": {
   "codemirror_mode": "java",
   "file_extension": ".jshell",
   "mimetype": "text/x-java-source",
   "name": "Java",
   "pygments_lexer": "java",
   "version": "11.0.16+8-post-Ubuntu-0ubuntu120.04"
  },
  "orig_nbformat": 4
 },
 "nbformat": 4,
 "nbformat_minor": 2
}
