{
 "cells": [
  {
   "attachments": {},
   "cell_type": "markdown",
   "metadata": {},
   "source": [
    "#inheritance\n",
    "\n",
    "\n",
    "[Presentation for inheritance](https://docs.google.com/presentation/d/1h9C3YOOpqIJkk68dA-m1fc2a5CVhoa3Rur7uEenqHBY/edit#slide=id.gc6f919934_0_0)"
   ]
  },
  {
   "cell_type": "code",
   "execution_count": null,
   "metadata": {},
   "outputs": [],
   "source": [
    "class Employee{  \n",
    "    float salary=40000;  \n",
    "   }  \n",
    "   class Programmer extends Employee{  \n",
    "    int bonus=10000;  \n",
    "    public static void main(String args[]){  \n",
    "      Programmer p=new Programmer();  \n",
    "      System.out.println(\"Programmer salary is:\"+p.salary);  \n",
    "      System.out.println(\"Bonus of Programmer is:\"+p.bonus);  \n",
    "   }  \n",
    "   }  "
   ]
  },
  {
   "attachments": {},
   "cell_type": "markdown",
   "metadata": {},
   "source": [
    "In this example using inheritance allows us to inherit the salary of the programmer by extending the superclass of employee\n",
    "\n",
    "\n",
    "Here is an example of writing constructors for subclasses"
   ]
  },
  {
   "cell_type": "code",
   "execution_count": null,
   "metadata": {},
   "outputs": [],
   "source": [
    "class Person\n",
    "{\n",
    "   private String name;\n",
    "\n",
    "   public Person(String theName)\n",
    "   {\n",
    "      this.name = theName;\n",
    "   }\n",
    "\n",
    "   public String getName()\n",
    "   {\n",
    "      return name;\n",
    "   }\n",
    "\n",
    "   public boolean setName(String theNewName)\n",
    "   {\n",
    "      if (theNewName != null)\n",
    "      {\n",
    "         this.name = theNewName;\n",
    "         return true;\n",
    "      }\n",
    "      return false;\n",
    "   }\n",
    "}\n",
    "\n",
    "public class Employee extends Person\n",
    "{\n",
    "   private int id;\n",
    "   public static int nextId = 1;\n",
    "\n",
    "   public Employee(String theName)\n",
    "   {\n",
    "      super(theName);\n",
    "      id = nextId;\n",
    "      nextId++;\n",
    "   }\n",
    "\n",
    "   public int getId()\n",
    "   {\n",
    "      return id;\n",
    "   }\n",
    "\n",
    "   public static void main(String[] args)\n",
    "   {\n",
    "      Employee emp = new Employee(\"Dani\");\n",
    "      System.out.println(emp.getName());\n",
    "      System.out.println(emp.getId());\n",
    "   }\n",
    "}\n"
   ]
  },
  {
   "attachments": {},
   "cell_type": "markdown",
   "metadata": {},
   "source": [
    "Example of polymorphism in Java"
   ]
  },
  {
   "cell_type": "code",
   "execution_count": null,
   "metadata": {},
   "outputs": [],
   "source": [
    "// Java Program for Method overloading\n",
    "// By using Different Types of Arguments\n",
    "\n",
    "// Class 1\n",
    "// Helper class\n",
    "class Helper {\n",
    "\n",
    "\t// Method with 2 integer parameters\n",
    "\tstatic int Multiply(int a, int b)\n",
    "\t{\n",
    "\n",
    "\t\t// Returns product of integer numbers\n",
    "\t\treturn a * b;\n",
    "\t}\n",
    "\n",
    "\t// Method 2\n",
    "\t// With same name but with 2 double parameters\n",
    "\tstatic double Multiply(double a, double b)\n",
    "\t{\n",
    "\n",
    "\t\t// Returns product of double numbers\n",
    "\t\treturn a * b;\n",
    "\t}\n",
    "}\n",
    "\n",
    "// Class 2\n",
    "// Main class\n",
    "class GFG {\n",
    "\n",
    "\t// Main driver method\n",
    "\tpublic static void main(String[] args)\n",
    "\t{\n",
    "\n",
    "\t\t// Calling method by passing\n",
    "\t\t// input as in arguments\n",
    "\t\tSystem.out.println(Helper.Multiply(2, 4));\n",
    "\t\tSystem.out.println(Helper.Multiply(5.5, 6.3));\n",
    "\t}\n",
    "}\n"
   ]
  }
 ],
 "metadata": {
  "kernelspec": {
   "display_name": "Java",
   "language": "java",
   "name": "java"
  },
  "language_info": {
   "name": "java"
  },
  "orig_nbformat": 4
 },
 "nbformat": 4,
 "nbformat_minor": 2
}
