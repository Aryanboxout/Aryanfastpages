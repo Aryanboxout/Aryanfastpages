{
 "cells": [
  {
   "attachments": {},
   "cell_type": "markdown",
   "metadata": {},
   "source": [
    "#inheritance\n",
    "\n",
    "\n",
    "[Presentation for inheritance](https://docs.google.com/presentation/d/1h9C3YOOpqIJkk68dA-m1fc2a5CVhoa3Rur7uEenqHBY/edit#slide=id.gc6f919934_0_0)"
   ]
  },
  {
   "cell_type": "code",
   "execution_count": 8,
   "metadata": {},
   "outputs": [
    {
     "name": "stdout",
     "output_type": "stream",
     "text": [
      "Programmer salary is:40000.0\n",
      "Bonus of Programmer is:10000\n"
     ]
    }
   ],
   "source": [
    "class Employee{  \n",
    "    float salary=40000;  \n",
    "   }  \n",
    "   class Programmer extends Employee{  \n",
    "    int bonus=10000;  \n",
    "    public static void main(String args[]){  \n",
    "      Programmer p=new Programmer();  \n",
    "      System.out.println(\"Programmer salary is:\"+p.salary);  \n",
    "      System.out.println(\"Bonus of Programmer is:\"+p.bonus);  \n",
    "   }  \n",
    "   }  \n",
    "\n",
    "   Programmer.main(null);"
   ]
  },
  {
   "attachments": {},
   "cell_type": "markdown",
   "metadata": {},
   "source": [
    "In Java, a constructor is a special method that is used to create and initialize an object. It has the same name as the class and is called when a new instance of the class is created.\n",
    "\n",
    "Constructors for subclasses work in a similar way to constructors for regular classes, but with some important differences. When creating a subclass, you typically want to reuse the constructor from the parent class (also known as the \"superclass\") and add some additional functionality. This is done using the \"super\" keyword.\n",
    "\n",
    "Here is an example of a simple class hierarchy with a parent class called \"Animal\" and a child class called \"Dog\":\n",
    "\n"
   ]
  },
  {
   "cell_type": "code",
   "execution_count": null,
   "metadata": {},
   "outputs": [],
   "source": [
    "public class Animal {\n",
    "    // Constructor for the Animal class\n",
    "    public Animal() {\n",
    "      // Initialize the object\n",
    "    }\n",
    "  }\n",
    "  \n",
    "  public class Dog extends Animal {\n",
    "    // Constructor for the Dog class\n",
    "    public Dog() {\n",
    "      // Call the constructor of the superclass\n",
    "      super();\n",
    "      \n",
    "      // Initialize the object\n",
    "    }\n",
    "  }"
   ]
  },
  {
   "attachments": {},
   "cell_type": "markdown",
   "metadata": {},
   "source": [
    "In the example above, the constructor for the \"Dog\" class calls the constructor of the \"Animal\" class using the \"super\" keyword. This ensures that the object is properly initialized according to the parent class's constructor, and then additional initialization can be done in the subclass's constructor.\n",
    "\n",
    "It is also possible to call a specific constructor of the superclass by specifying the parameters, like this:"
   ]
  },
  {
   "attachments": {},
   "cell_type": "markdown",
   "metadata": {},
   "source": [
    "In this example using inheritance allows us to inherit the salary of the programmer by extending the superclass of employee\n",
    "\n",
    "\n",
    "Here is another example of writing constructors for subclasses"
   ]
  },
  {
   "cell_type": "code",
   "execution_count": null,
   "metadata": {},
   "outputs": [],
   "source": [
    "public class Dog extends Animal {\n",
    "  // Constructor for the Dog class\n",
    "  public Dog(String name) {\n",
    "    // Call the constructor of the superclass with a specific parameter\n",
    "    super(name);\n",
    "    \n",
    "    // Initialize the object\n",
    "  }\n",
    "}"
   ]
  },
  {
   "attachments": {},
   "cell_type": "markdown",
   "metadata": {},
   "source": [
    "In this case, the \"Dog\" class's constructor calls the \"Animal\" class's constructor with a specific parameter (the \"name\" of the animal). This allows the subclass to reuse the functionality of the parent class's constructor, but with some additional customization."
   ]
  },
  {
   "cell_type": "code",
   "execution_count": 6,
   "metadata": {},
   "outputs": [
    {
     "name": "stdout",
     "output_type": "stream",
     "text": [
      "Dani\n",
      "1\n"
     ]
    }
   ],
   "source": [
    "class Person\n",
    "{\n",
    "   private String name;\n",
    "\n",
    "   public Person(String theName)\n",
    "   {\n",
    "      this.name = theName;\n",
    "   }\n",
    "\n",
    "   public String getName()\n",
    "   {\n",
    "      return name;\n",
    "   }\n",
    "\n",
    "   public boolean setName(String theNewName)\n",
    "   {\n",
    "      if (theNewName != null)\n",
    "      {\n",
    "         this.name = theNewName;\n",
    "         return true;\n",
    "      }\n",
    "      return false;\n",
    "   }\n",
    "}\n",
    "\n",
    "public class Employee extends Person\n",
    "{\n",
    "   private int id;\n",
    "   public static int nextId = 1;\n",
    "\n",
    "   public Employee(String theName)\n",
    "   {\n",
    "      super(theName);\n",
    "      id = nextId;\n",
    "      nextId++;\n",
    "   }\n",
    "\n",
    "   public int getId()\n",
    "   {\n",
    "      return id;\n",
    "   }\n",
    "\n",
    "   public static void main(String[] args)\n",
    "   {\n",
    "      Employee emp = new Employee(\"Dani\");\n",
    "      System.out.println(emp.getName());\n",
    "      System.out.println(emp.getId());\n",
    "   }\n",
    "}\n",
    "\n",
    "Employee.main(null);\n"
   ]
  },
  {
   "attachments": {},
   "cell_type": "markdown",
   "metadata": {},
   "source": [
    "Example of polymorphism in Java"
   ]
  },
  {
   "cell_type": "code",
   "execution_count": 5,
   "metadata": {},
   "outputs": [
    {
     "name": "stdout",
     "output_type": "stream",
     "text": [
      "8\n",
      "34.65\n"
     ]
    }
   ],
   "source": [
    "// Java Program for Method overloading\n",
    "// By using Different Types of Arguments\n",
    "\n",
    "// Class 1\n",
    "// Helper class\n",
    "class Helper {\n",
    "\n",
    "\t// Method with 2 integer parameters\n",
    "\tstatic int Multiply(int a, int b)\n",
    "\t{\n",
    "\n",
    "\t\t// Returns product of integer numbers\n",
    "\t\treturn a * b;\n",
    "\t}\n",
    "\n",
    "\t// Method 2\n",
    "\t// With same name but with 2 double parameters\n",
    "\tstatic double Multiply(double a, double b)\n",
    "\t{\n",
    "\n",
    "\t\t// Returns product of double numbers\n",
    "\t\treturn a * b;\n",
    "\t}\n",
    "}\n",
    "\n",
    "// Class 2\n",
    "// Main class\n",
    "class GFG {\n",
    "\n",
    "\t// Main driver method\n",
    "\tpublic static void main(String[] args)\n",
    "\t{\n",
    "\n",
    "\t\t// Calling method by passing\n",
    "\t\t// input as in arguments\n",
    "\t\tSystem.out.println(Helper.Multiply(2, 4));\n",
    "\t\tSystem.out.println(Helper.Multiply(5.5, 6.3));\n",
    "\t}\n",
    "}\n",
    "\n",
    "GFG.main(null);\n"
   ]
  },
  {
   "attachments": {},
   "cell_type": "markdown",
   "metadata": {},
   "source": [
    "Overriding methods"
   ]
  },
  {
   "cell_type": "code",
   "execution_count": 4,
   "metadata": {},
   "outputs": [
    {
     "name": "stdout",
     "output_type": "stream",
     "text": [
      "Vehicle is running\n"
     ]
    }
   ],
   "source": [
    "class Vehicle{  \n",
    "    void run(){System.out.println(\"Vehicle is running\");}  \n",
    "  }  \n",
    "  //Creating a child class  \n",
    "  class Bike extends Vehicle{  \n",
    "    public static void main(String args[]){  \n",
    "    //creating an instance of child class  \n",
    "    Bike obj = new Bike();  \n",
    "    //calling the method with child class instance  \n",
    "    obj.run();  \n",
    "    }  \n",
    "  }  \n",
    "\n",
    "  Bike.main(null);"
   ]
  },
  {
   "attachments": {},
   "cell_type": "markdown",
   "metadata": {},
   "source": [
    "Homework(Due Wednesday):\n",
    "\n",
    "\n"
   ]
  }
 ],
 "metadata": {
  "kernelspec": {
   "display_name": "Java",
   "language": "java",
   "name": "java"
  },
  "language_info": {
   "codemirror_mode": "java",
   "file_extension": ".jshell",
   "mimetype": "text/x-java-source",
   "name": "java",
   "pygments_lexer": "java",
   "version": "18.0.2.1+1-1"
  },
  "orig_nbformat": 4
 },
 "nbformat": 4,
 "nbformat_minor": 2
}
