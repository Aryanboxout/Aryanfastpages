{
 "cells": [
  {
   "cell_type": "code",
   "execution_count": 1,
   "metadata": {
    "vscode": {
     "languageId": "java"
    }
   },
   "outputs": [],
   "source": [
    "import java.util.*;\n",
    "\n",
    "public class Main {\n",
    "    public static void main(String[] args) {\n",
    "        // Initialize the data\n",
    "        int[] data = {5, 2, 7, 1, 8, 3};\n",
    "        \n",
    "        // Sort the data using Arrays.sort()\n",
    "        Arrays.sort(data);\n",
    "        \n",
    "        // Build the HashMap\n",
    "        Map<Integer, Integer> hashMap = new HashMap<>();\n",
    "        for (int i = 0; i < data.length; i++) {\n",
    "            hashMap.put(data[i], i);\n",
    "        }\n",
    "        \n",
    "        // Perform analysis on binary search\n",
    "        int index = Arrays.binarySearch(data, 7);\n",
    "        if (index >= 0) {\n",
    "            System.out.println(\"Element found at index \" + index);\n",
    "        } else {\n",
    "            System.out.println(\"Element not found\");\n",
    "        }\n",
    "        \n",
    "        // Perform analysis on HashMap lookup\n",
    "        if (hashMap.containsKey(7)) {\n",
    "            int index2 = hashMap.get(7);\n",
    "            System.out.println(\"Element found at index \" + index2);\n",
    "        } else {\n",
    "            System.out.println(\"Element not found\");\n",
    "        }\n",
    "    }\n",
    "}\n"
   ]
  },
  {
   "attachments": {},
   "cell_type": "markdown",
   "metadata": {},
   "source": [
    "In this example, we start by initializing an array of integers. We then sort the array using Arrays.sort(), which uses the quicksort algorithm. We then build a HashMap by iterating through the sorted array and adding each element to the HashMap with its index as the value. Finally, we perform an analysis on binary search by using Arrays.binarySearch() to search for the element 7. If the element is found, we print its index. If not, we print a message saying that the element was not found. We then perform an analysis on HashMap lookup by using HashMap.containsKey() to check if the HashMap contains the element 7. If it does, we get its index from the HashMap using HashMap.get() and print it. If not, we print a message saying that the element was not found.\n",
    "\n",
    "\n",
    "As for the performance analysis, binary search has a time complexity of O(log n), where n is the size of the sorted array. This means that as the size of the array grows, the time taken to perform a binary search grows at a slower rate than linearly. On the other hand, HashMap lookup has an average time complexity of O(1) for inserting, deleting, and retrieving elements. However, in the worst case, the time complexity of a HashMap lookup can be O(n), where n is the size of the HashMap, if all the elements have the same hash code and are stored in the same bucket. This is known as a hash collision. In practice, hash collisions are rare, and the time complexity of a HashMap lookup is typically closer to O(1) on average.\n"
   ]
  }
 ],
 "metadata": {
  "kernelspec": {
   "display_name": "Java",
   "language": "java",
   "name": "java"
  },
  "language_info": {
   "codemirror_mode": "java",
   "file_extension": ".jshell",
   "mimetype": "text/x-java-source",
   "name": "Java",
   "pygments_lexer": "java",
   "version": "18.0.2.1+1-1"
  },
  "orig_nbformat": 4
 },
 "nbformat": 4,
 "nbformat_minor": 2
}
