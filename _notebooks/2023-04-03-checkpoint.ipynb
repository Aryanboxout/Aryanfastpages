{
 "cells": [
  {
   "cell_type": "code",
   "execution_count": 1,
   "metadata": {
    "vscode": {
     "languageId": "java"
    }
   },
   "outputs": [],
   "source": [
    "import java.util.*;\n",
    "\n",
    "public class Main {\n",
    "    public static void main(String[] args) {\n",
    "        // Initialize the data\n",
    "        int[] data = {5, 2, 7, 1, 8, 3};\n",
    "        \n",
    "        // Sort the data using Arrays.sort()\n",
    "        Arrays.sort(data);\n",
    "        \n",
    "        // Build the HashMap\n",
    "        Map<Integer, Integer> hashMap = new HashMap<>();\n",
    "        for (int i = 0; i < data.length; i++) {\n",
    "            hashMap.put(data[i], i);\n",
    "        }\n",
    "        \n",
    "        // Perform analysis on binary search\n",
    "        int index = Arrays.binarySearch(data, 7);\n",
    "        if (index >= 0) {\n",
    "            System.out.println(\"Element found at index \" + index);\n",
    "        } else {\n",
    "            System.out.println(\"Element not found\");\n",
    "        }\n",
    "        \n",
    "        // Perform analysis on HashMap lookup\n",
    "        if (hashMap.containsKey(7)) {\n",
    "            int index2 = hashMap.get(7);\n",
    "            System.out.println(\"Element found at index \" + index2);\n",
    "        } else {\n",
    "            System.out.println(\"Element not found\");\n",
    "        }\n",
    "    }\n",
    "}\n"
   ]
  }
 ],
 "metadata": {
  "kernelspec": {
   "display_name": "Java",
   "language": "java",
   "name": "java"
  },
  "language_info": {
   "codemirror_mode": "java",
   "file_extension": ".jshell",
   "mimetype": "text/x-java-source",
   "name": "Java",
   "pygments_lexer": "java",
   "version": "18.0.2.1+1-1"
  },
  "orig_nbformat": 4
 },
 "nbformat": 4,
 "nbformat_minor": 2
}
