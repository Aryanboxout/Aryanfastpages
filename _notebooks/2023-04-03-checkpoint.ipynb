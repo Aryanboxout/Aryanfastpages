{
 "cells": [
  {
   "cell_type": "code",
   "execution_count": 13,
   "metadata": {
    "vscode": {
     "languageId": "java"
    }
   },
   "outputs": [
    {
     "name": "stdout",
     "output_type": "stream",
     "text": [
      "Element found at index 4\n",
      "Element found at index 4\n"
     ]
    }
   ],
   "source": [
    "import java.util.*;\n",
    "\n",
    "public class Main {\n",
    "    public static void main(String[] args) {\n",
    "        // Initialize the data\n",
    "        int[] data = {5, 2, 7, 1, 8, 3};\n",
    "        \n",
    "        // Sort the data using Arrays.sort()\n",
    "        Arrays.sort(data);\n",
    "        \n",
    "        // Build the HashMap\n",
    "        Map<Integer, Integer> hashMap = new HashMap<>();\n",
    "        for (int i = 0; i < data.length; i++) {\n",
    "            hashMap.put(data[i], i);\n",
    "        }\n",
    "        \n",
    "        // Perform analysis on binary search\n",
    "        int index = Arrays.binarySearch(data, 7);\n",
    "        if (index >= 0) {\n",
    "            System.out.println(\"Element found at index \" + index);\n",
    "        } else {\n",
    "            System.out.println(\"Element not found\");\n",
    "        }\n",
    "        \n",
    "        // Perform analysis on HashMap lookup\n",
    "        if (hashMap.containsKey(7)) {\n",
    "            int index2 = hashMap.get(7);\n",
    "            System.out.println(\"Element found at index \" + index2);\n",
    "        } else {\n",
    "            System.out.println(\"Element not found\");\n",
    "        }\n",
    "    }\n",
    "}\n",
    "\n",
    "\n",
    "Main.main(null);"
   ]
  },
  {
   "attachments": {},
   "cell_type": "markdown",
   "metadata": {},
   "source": [
    "In this example, we start by initializing an array of integers. We then sort the array using Arrays.sort(), which uses the quicksort algorithm. We then build a HashMap by iterating through the sorted array and adding each element to the HashMap with its index as the value. Finally, we perform an analysis on binary search by using Arrays.binarySearch() to search for the element 7. If the element is found, we print its index. If not, we print a message saying that the element was not found. We then perform an analysis on HashMap lookup by using HashMap.containsKey() to check if the HashMap contains the element 7. If it does, we get its index from the HashMap using HashMap.get() and print it. If not, we print a message saying that the element was not found.\n",
    "\n",
    "\n",
    "As for the performance analysis, binary search has a time complexity of O(log n), where n is the size of the sorted array. This means that as the size of the array grows, the time taken to perform a binary search grows at a slower rate than linearly. On the other hand, HashMap lookup has an average time complexity of O(1) for inserting, deleting, and retrieving elements. However, in the worst case, the time complexity of a HashMap lookup can be O(n), where n is the size of the HashMap, if all the elements have the same hash code and are stored in the same bucket. This is known as a hash collision. In practice, hash collisions are rare, and the time complexity of a HashMap lookup is typically closer to O(1) on average.\n"
   ]
  },
  {
   "attachments": {},
   "cell_type": "markdown",
   "metadata": {},
   "source": [
    "[Video](https://www.youtube.com/watch?v=H62Jfv1DJlU)\n",
    "\n",
    "\n",
    "Using learning and code for video for extra preperation:"
   ]
  },
  {
   "cell_type": "code",
   "execution_count": 16,
   "metadata": {
    "vscode": {
     "languageId": "java"
    }
   },
   "outputs": [
    {
     "ename": "UnresolvedReferenceException",
     "evalue": "Attempt to use definition snippet with unresolved references in Snippet:ClassKey(Maps)#16-\n\npublic class Maps {\n\npublic static void main(String[] args) \n{\n\n//This map will allow us to hold employee names which are strings with there ids which are integers\n  \nmap<String, Integer> empIds = new Hashmap<>();\n\nempIds.put(\"Mohammed\", 92125);\nempIds.put(\"shaun\", 92125);\nempIds.put(\"Tony\", 92125);\nempIds.put(\"Sanjay\", 92125);\n\nSystem.out.println(empIds);\n\n}\n\n}",
     "output_type": "error",
     "traceback": [
      "\u001b[1m\u001b[30m|   \u001b[1m\u001b[30m\u001b[0m",
      "\u001b[1m\u001b[30m|   \u001b[1m\u001b[30m\u001b[0m",
      "\u001b[1m\u001b[30m|   \u001b[1m\u001b[30mpublic class Maps {\u001b[0m",
      "\u001b[1m\u001b[30m|   \u001b[1m\u001b[30m\u001b[0m",
      "\u001b[1m\u001b[30m|   \u001b[1m\u001b[30mpublic static void main(String[] args) \u001b[0m",
      "\u001b[1m\u001b[30m|   \u001b[1m\u001b[30m{\u001b[0m",
      "\u001b[1m\u001b[30m|   \u001b[1m\u001b[30m\u001b[0m",
      "\u001b[1m\u001b[30m|   \u001b[1m\u001b[30m//This map will allow us to hold employee names which are strings with there ids which are integers\u001b[0m",
      "\u001b[1m\u001b[30m|   \u001b[1m\u001b[30m  \u001b[0m",
      "\u001b[1m\u001b[30m|   \u001b[1m\u001b[30mmap<String, Integer> empIds = new Hashmap<>();\u001b[0m",
      "\u001b[1m\u001b[30m|   \u001b[1m\u001b[30m\u001b[0m",
      "\u001b[1m\u001b[30m|   \u001b[1m\u001b[30mempIds.put(\"Mohammed\", 92125);\u001b[0m",
      "\u001b[1m\u001b[30m|   \u001b[1m\u001b[30mempIds.put(\"shaun\", 92125);\u001b[0m",
      "\u001b[1m\u001b[30m|   \u001b[1m\u001b[30mempIds.put(\"Tony\", 92125);\u001b[0m",
      "\u001b[1m\u001b[30m|   \u001b[1m\u001b[30mempIds.put(\"Sanjay\", 92125);\u001b[0m",
      "\u001b[1m\u001b[30m|   \u001b[1m\u001b[30m\u001b[0m",
      "\u001b[1m\u001b[30m|   \u001b[1m\u001b[30mSystem.out.println(empIds);\u001b[0m",
      "\u001b[1m\u001b[30m|   \u001b[1m\u001b[30m\u001b[0m",
      "\u001b[1m\u001b[30m|   \u001b[1m\u001b[30m}\u001b[0m",
      "\u001b[1m\u001b[30m|   \u001b[1m\u001b[30m\u001b[0m",
      "\u001b[1m\u001b[30m|   \u001b[1m\u001b[30m}\u001b[0m",
      "\u001b[1m\u001b[31mUnresolved dependencies:\u001b[0m",
      "\u001b[1m\u001b[31m   - class map\u001b[0m",
      "\u001b[1m\u001b[31m   - class Hashmap\u001b[0m"
     ]
    }
   ],
   "source": [
    "\n",
    "\n",
    "public class Maps {\n",
    "\n",
    "public static void main(String[] args) \n",
    "{\n",
    "\n",
    "//This map will allow us to hold employee names which are strings with there ids which are integers\n",
    "  \n",
    "map<String, Integer> empIds = new Hashmap<>();\n",
    "\n",
    "empIds.put(\"Mohammed\", 92125);\n",
    "empIds.put(\"shaun\", 92125);\n",
    "empIds.put(\"Tony\", 92125);\n",
    "empIds.put(\"Sanjay\", 92125);\n",
    "\n",
    "System.out.println(empIds);\n",
    "\n",
    "}\n",
    "\n",
    "}\n",
    "\n",
    "\n",
    "Maps.main(null);"
   ]
  }
 ],
 "metadata": {
  "kernelspec": {
   "display_name": "Java",
   "language": "java",
   "name": "java"
  },
  "language_info": {
   "codemirror_mode": "java",
   "file_extension": ".jshell",
   "mimetype": "text/x-java-source",
   "name": "Java",
   "pygments_lexer": "java",
   "version": "18.0.2.1+1-1"
  },
  "orig_nbformat": 4
 },
 "nbformat": 4,
 "nbformat_minor": 2
}
