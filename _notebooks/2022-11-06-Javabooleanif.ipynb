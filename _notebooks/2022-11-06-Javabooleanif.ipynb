{
 "cells": [
  {
   "cell_type": "markdown",
   "metadata": {},
   "source": [
    "# week 3-Boolean and Conditionals\n",
    "\n",
    "Notes-\n",
    "\n",
    "\n",
    "The simplest if-statement has two parts – a boolean \"test\" within parentheses ( ) followed\n",
    "by \"body\" block of statements within curly braces { }. The test can be any expression that\n",
    "evaluates to a boolean value – true or false – value (boolean expressions are detailed\n",
    "below). The if-statement evaluates the test and then runs the body code only if the test is\n",
    "true. If the test is false, the body is skipped.\n",
    "Another common form of if-statement adds an \"else\" clause such as with the code below\n",
    "which prints one message or the other...\n",
    "\n",
    "\n",
    "if(turnedOn == true) is the same as if(turnedOn)\n",
    "\n",
    "if(turnedOn == false) is the same as if(!turnedOn)\n",
    "\n",
    "\n"
   ]
  },
  {
   "cell_type": "markdown",
   "metadata": {},
   "source": [
    "Implementing Boolean into if else statements"
   ]
  },
  {
   "cell_type": "code",
   "execution_count": 3,
   "metadata": {},
   "outputs": [
    {
     "name": "stdout",
     "output_type": "stream",
     "text": [
      "Go to sleep\n"
     ]
    }
   ],
   "source": [
    "boolean isTired = true; // setting boolean to true.\n",
    "if(isTired) { // isTired is the same thing as if(isTired == True)\n",
    "   System.out.println(\"Go to sleep\");\n",
    "} else { \n",
    "    System.out.println(\"KeepWorking\");\n",
    "}"
   ]
  },
  {
   "cell_type": "markdown",
   "metadata": {},
   "source": [
    "if-elseif-elseif-elsif-else statement, 5 or more conditions"
   ]
  },
  {
   "cell_type": "code",
   "execution_count": 2,
   "metadata": {},
   "outputs": [
    {
     "name": "stdout",
     "output_type": "stream",
     "text": [
      "Wednesday\n"
     ]
    }
   ],
   "source": [
    "int day= 4;\n",
    "\n",
    "if(day==1){\n",
    "    System.out.println(\"Sunday\");\n",
    "}\n",
    "else if(day==2){\n",
    "    System.out.println(\"Monday\");\n",
    "\n",
    "}\n",
    "else if(day==3){\n",
    "    System.out.println(\"Tuesday\");\n",
    "}\n",
    "else if(day==4){\n",
    "    System.out.println(\"Wednesday\");\n",
    "}\n",
    "else if(day==5){\n",
    "    System.out.println(\"Thursday\");\n",
    "}\n",
    "else if(day==6){\n",
    "    System.out.println(\"Friday\");\n",
    "}\n",
    "else if(day==7){\n",
    "    System.out.println(\"Saturday\");\n",
    "}\n"
   ]
  },
  {
   "cell_type": "code",
   "execution_count": 5,
   "metadata": {},
   "outputs": [
    {
     "name": "stdout",
     "output_type": "stream",
     "text": [
      "Tuesday\n"
     ]
    }
   ],
   "source": [
    "int day=3;\n",
    "\n",
    "switch(day){\n",
    "    \n",
    "    case 1:\n",
    "        System.out.println(\"Sunday\");\n",
    "         break;\n",
    "    case 2:\n",
    "        System.out.println(\"Monday\");\n",
    "        break;\n",
    "     case 3:\n",
    "        System.out.println(\"Tuesday\");\n",
    "        break;\n",
    "    case 4:\n",
    "        System.out.println(\"Wednesday\");\n",
    "         break;\n",
    "    case 5:\n",
    "        System.out.println(\"Thursday\");\n",
    "         break;\n",
    "    case 6:\n",
    "         System.out.println(\"Friday\");\n",
    "          break;\n",
    "     case 7:\n",
    "          System.out.println(\"Saturday\");\n",
    "           break;\n",
    "          \n",
    "}"
   ]
  },
  {
   "cell_type": "code",
   "execution_count": null,
   "metadata": {},
   "outputs": [],
   "source": [
    "int x = 4, y = 3;\n",
    "if (!(x < 3 || y > 2))\n",
    "{\n",
    "   System.out.println(\"True\");\n",
    "}\n",
    "else\n",
    "{\n",
    "   System.out.println(\"False\");\n",
    "}"
   ]
  },
  {
   "cell_type": "markdown",
   "metadata": {},
   "source": [
    "Now let's switch up!\n",
    "Time to make things easier and use switch case\n",
    "\n",
    "A switch statement allows a variable to be tested for equality against a list of values. Each value is called a case, and the variable being switched on is checked for each switch case."
   ]
  },
  {
   "cell_type": "code",
   "execution_count": null,
   "metadata": {},
   "outputs": [],
   "source": [
    "int x = 4, y = 3;\n",
    "if (!(x < 3 && y > 2))\n",
    "{\n",
    "   System.out.println(\"True);\n",
    "}\n",
    "else\n",
    "{\n",
    "   System.out.println(\"False\");\n",
    "}"
   ]
  },
  {
   "cell_type": "markdown",
   "metadata": {},
   "source": [
    "DeMorgan’s laws were developed by Augustus De Morgan in the 1800s. They show how to handle the negation of a complex conditional, which is a conditional statement with more than one condition joined by an and (&&) or or (||), such as (x < 3) && (y > 2)\n",
    "\n"
   ]
  },
  {
   "cell_type": "markdown",
   "metadata": {},
   "source": [
    "Basic logic gates\n",
    "There are seven basic logic gates: AND, OR, XOR, NOT, NAND, NOR, and XNOR.\n",
    "\n",
    "AND | OR | XOR | NOT | NAND | NOR | XNOR\n",
    "\n",
    "The AND gate is so named because, if 0 is called \"false\" and 1 is called \"true,\" the gate acts in the same way as the logical \"and\" operator. The following illustration and table show the circuit symbol and logic combinations for an AND gate. (In the symbol, the input terminals are at left and the output terminal is at right.) The output is \"true\" when both inputs are \"true.\" Otherwise, the output is \"false.\" In other words, the output is 1 only when both inputs one AND two are 1."
   ]
  },
  {
   "cell_type": "markdown",
   "metadata": {},
   "source": [
    "Homework \n",
    "\n",
    "2009 frq 3b\n",
    "2017 frq 1b\n",
    "2019 frq 2b\n",
    "\n",
    "\n",
    "[College Board 2009 frq](https://secure-media.collegeboard.org/apc/_ap06_frq_computer_sc_51649.pdf)\n",
    "\n",
    "\n",
    "[College Board 2017 frq](https://apcentral.collegeboard.org/media/pdf/ap-computer-science-a-frq-2017.pdf)\n",
    "\n",
    "[College Board 2019 frq](https://apcentral.collegeboard.org/media/pdf/ap19-frq-computer-science-a.pdf)"
   ]
  },
  {
   "cell_type": "code",
   "execution_count": null,
   "metadata": {},
   "outputs": [],
   "source": [
    "\n",
    "\n",
    "//2009 3b\n",
    "\n",
    "\n",
    "\n",
    "private int getChargingCost(int startHour, int chargeTime)\n",
    "{\n",
    "  int cost = 0;\n",
    "  int rIndex = startHour;\n",
    "  int hoursRemaining = chargeTime;  \n",
    "\n",
    "\n",
    "  \n",
    "  while(hoursRemaining > 0)\n",
    "  {\n",
    "    cost += rateTable[rIndex];\n",
    "\n",
    "    rIndex++;\n",
    "    if(rIndex == rateTable.length)\n",
    "      rIndex = 0;\n",
    "      \n",
    "    hoursRemaining--;\n",
    "  }\n",
    "  \n",
    "  return cost;\n",
    "\n",
    "  //final cost returned\n",
    "}"
   ]
  },
  {
   "cell_type": "code",
   "execution_count": null,
   "metadata": {},
   "outputs": [],
   "source": [
    "//2017 1b\n",
    "\n",
    "public boolean isStrictlyIncreasing()\n",
    "{\n",
    "    for (int i = 0; i < digitList.size()-1; i++)  //checks if values increasing\n",
    "{\n",
    "    if (digitList.get(i).intValue() >= digitList.get(i+1).intValue())\n",
    "{\n",
    "    return false;\n",
    "}\n",
    "}\n",
    "    return true;\n",
    "}\n"
   ]
  },
  {
   "cell_type": "code",
   "execution_count": null,
   "metadata": {},
   "outputs": [],
   "source": [
    "//2019 frq 2b\n",
    "\n",
    "\n",
    "public static int dayOfWeek(int month, int day, int year)\n",
    "{\n",
    "  int weekday = firstDayOfYear(year);\n",
    "  int additionalDays = dayOfYear(month, day, year) - 1;\n",
    "\n",
    "  for(int d = 1; d <= additionalDays; d++)\n",
    "  {\n",
    "    weekday++; //add one to weekday\n",
    "\n",
    "    if(weekday == 7)\n",
    "      weekday = 0; //set to 0\n",
    "  }\n",
    "        \n",
    "  return weekday; \n",
    "}"
   ]
  },
  {
   "cell_type": "markdown",
   "metadata": {},
   "source": [
    "The Truth Table\n",
    "\n",
    "The following table (also called a truth table) shows the result for P && Q when P and Q are both expressions that can be true or false. An expression involving logical operators like (P && Q) evaluates to a Boolean value, true or false. As you can see below the result of P && Q is only true if both P and Q are true.\n",
    "\n",
    "\n"
   ]
  }
 ],
 "metadata": {
  "kernelspec": {
   "display_name": "Java",
   "language": "java",
   "name": "java"
  },
  "language_info": {
   "codemirror_mode": "java",
   "file_extension": ".jshell",
   "mimetype": "text/x-java-source",
   "name": "java",
   "pygments_lexer": "java",
   "version": "18.0.2.1+1-1"
  },
  "orig_nbformat": 4
 },
 "nbformat": 4,
 "nbformat_minor": 2
}
