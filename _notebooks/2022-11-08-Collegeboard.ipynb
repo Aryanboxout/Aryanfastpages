{
 "cells": [
  {
   "cell_type": "markdown",
   "metadata": {},
   "source": [
    "\n",
    "# College Notes\n",
    "\n",
    "College board notes to be taken here:\n",
    "\n",
    "\n",
    "\n",
    "[UNIT 1]\n",
    "\n",
    "\n",
    "\n",
    "\n",
    "int: By default, the int data type is a 32-bit signed two's complement integer, which has a minimum value of -231 and a maximum value of 231-1. In Java SE 8 and later, you can use the int data type to represent an unsigned 32-bit integer, which has a minimum value of 0 and a maximum value of 232-1. Use the Integer class to use int data type as an unsigned integer. See the section The Number Classes for more information. Static methods like compareUnsigned, divideUnsigned etc have been added to the Integer class to support the arithmetic operations for unsigned integers.\n",
    "\n",
    "float: The float data type is a single-precision 32-bit IEEE 754 floating point. Its range of values is beyond the scope of this discussion, but is specified in the Floating-Point Types, Formats, and Values section of the Java Language Specification. As with the recommendations for byte and short, use a float (instead of double) if you need to save memory in large arrays of floating point numbers. This data type should never be used for precise values, such as currency. For that, you will need to use the java.math.BigDecimal class instead. Numbers and Strings covers BigDecimal and other useful classes provided by the Java platform.\n",
    "\n",
    "double: The double data type is a double-precision 64-bit IEEE 754 floating point. Its range of values is beyond the scope of this discussion, but is specified in the Floating-Point Types, Formats, and Values section of the Java Language Specification. For decimal values, this data type is generally the default choice. As mentioned above, this data type should never be used for precise values, such as currency.\n",
    "\n",
    "boolean: The boolean data type has only two possible values: true and false. Use this data type for simple flags that track true/false conditions. This data type represents one bit of information, but its \"size\" isn't something that's precisely defined.\n",
    "\n",
    "\n",
    "\n",
    "\n",
    "Data Type\tDefault Value (for fields)\n",
    "byte\t0\n",
    "short\t0\n",
    "int\t0\n",
    "String (or any object)  \tnull\n",
    "boolean\tfalse\n",
    "\n",
    "\n",
    "Reflection On PBL project\n",
    "\n",
    "-I thought it was extremely intuitive that we had the oppurtunity to learn how to implement java as a backend language and controller. I have used java prior to this but never in a mvc format in order to create real web projects\n",
    "\n",
    "Spring\n",
    "\n",
    "-The power of spring is really cool, the ability to use this system was interesting because of it's because it allows to use java how flask used python \n",
    "\n",
    "\n",
    "\n",
    "\n",
    "\n",
    "[college board mcq corrections](https://github.com/Aryanboxout/Aryanfastpages/issues/10)"
   ]
  },
  {
   "cell_type": "markdown",
   "metadata": {},
   "source": [
    "Week 2 OOP \n",
    "\n",
    "\n",
    "public: Accessible in all classes in your application.\n",
    "\n",
    "protected: Accessible within the package in which it is defined and in its subclass(es) (including subclasses declared outside the package).\n",
    "\n",
    "private: Accessible only within the class in which it is defined.\n",
    "\n",
    "default (declared/defined without using any modifier): Accessible within the same class and package within which its class is defined.\n",
    "\n",
    "The return type: The data type of the value returned by the method or void if it does not return a value\n",
    ".\n",
    "Method Name: The rules for field names apply to method names as well, but the convention is a little different.\n",
    "\n",
    "Parameter list: Comma-separated list of the input parameters that are defined, preceded by their data type, within the enclosed parentheses. If there \n",
    "are no parameters, you must use empty parentheses ().\n",
    "\n",
    "Exception list: The exceptions you expect the method to throw. You can specify these exception(s).\n",
    "\n",
    "Method body: It is the block of code, enclosed between braces, that you need to execute to perform your intended operations."
   ]
  },
  {
   "cell_type": "markdown",
   "metadata": {},
   "source": [
    "[college board mcq corrections](https://github.com/Aryanboxout/Aryanfastpages/issues/10)"
   ]
  }
 ],
 "metadata": {
  "kernelspec": {
   "display_name": "Python 3.10.0 64-bit",
   "language": "python",
   "name": "python3"
  },
  "language_info": {
   "name": "python",
   "version": "3.10.0"
  },
  "orig_nbformat": 4,
  "vscode": {
   "interpreter": {
    "hash": "aee8b7b246df8f9039afb4144a1f6fd8d2ca17a180786b69acc140d282b71a49"
   }
  }
 },
 "nbformat": 4,
 "nbformat_minor": 2
}
