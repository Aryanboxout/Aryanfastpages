{
 "cells": [
  {
   "cell_type": "markdown",
   "metadata": {},
   "source": [
    "# FRQ\n",
    "\n",
    "FRQ question 1a"
   ]
  },
  {
   "cell_type": "code",
   "execution_count": null,
   "metadata": {},
   "outputs": [],
   "source": [
    "Public class Game\n",
    "\n",
    "Public int getScore(){\n",
    "\n",
    "int result=0;\n",
    "\n",
    "if(levelOne.goalReached())\n",
    "  {\n",
    "    result += levelOne.getPoints();\n",
    "    \n",
    "    if(levelTwo.goalReached())\n",
    "    {\n",
    "      result += levelTwo.getPoints();\n",
    "      \n",
    "      if(levelThree.goalReached())\n",
    "      {\n",
    "       result += levelThree.getPoints();\n",
    "      }\n",
    "    }\n",
    "  }\n",
    "  \n",
    "  if(isBonus())\n",
    "    result *= 3;\n",
    "\n",
    "\n",
    "return result;\n",
    "\n",
    "\n",
    "}"
   ]
  },
  {
   "cell_type": "markdown",
   "metadata": {},
   "source": [
    "Frq question 1b"
   ]
  },
  {
   "cell_type": "code",
   "execution_count": null,
   "metadata": {},
   "outputs": [],
   "source": [
    "public int playManyTimes(int num) {\n",
    "    int max= Integer.MIN_VALUE\n",
    "\n",
    "    for(int i=0; i<num; i++){\n",
    "   play();\n",
    "    \n",
    "   int current = getScore();\n",
    "\n",
    "   if(current>max){\n",
    "max=current;\n",
    "\n",
    "   }\n",
    "\n",
    "    }\n",
    "\n",
    "    return max;\n",
    "}"
   ]
  },
  {
   "cell_type": "markdown",
   "metadata": {},
   "source": [
    "FRQ Question 2 Code:"
   ]
  },
  {
   "cell_type": "code",
   "execution_count": null,
   "metadata": {},
   "outputs": [],
   "source": [
    "public class Textbook extends Book\n",
    "{\n",
    "    private int edition;\n",
    "\n",
    "  public Textbook(String bookTitle, double bookPrice, int edition)\n",
    "  {\n",
    "    super(bookTitle, bookPrice);\n",
    "    this.edition = edition;\n",
    "  }\n",
    "\n",
    "  public int getEdition()\n",
    "  {\n",
    "    return edition;\n",
    "  }\n",
    "\n",
    "  public String getBookInfo()\n",
    "  {\n",
    "    return super.getBookInfo() + \"-\" + edition;\n",
    "  }\n",
    "\n",
    "  public boolean canSubstituteFor(Textbook otherTextbook)\n",
    "  {\n",
    "   if(this.getTitle().equals(otherTextbook.getTitle()) &&\n",
    "        this.getEdition() >= otherTextbook.getEdition();){\n",
    "\n",
    "            return false;\n",
    "        \n",
    "        }\n",
    "\n",
    "        else{\n",
    "\n",
    "            return true; \n",
    "        }\n",
    "  }\n",
    "}"
   ]
  }
 ],
 "metadata": {
  "kernelspec": {
   "display_name": "Java",
   "language": "java",
   "name": "java"
  },
  "language_info": {
   "codemirror_mode": "java",
   "file_extension": ".jshell",
   "mimetype": "text/x-java-source",
   "name": "java",
   "pygments_lexer": "java",
   "version": "18.0.2.1+1-1"
  },
  "orig_nbformat": 4,
  "vscode": {
   "interpreter": {
    "hash": "aee8b7b246df8f9039afb4144a1f6fd8d2ca17a180786b69acc140d282b71a49"
   }
  }
 },
 "nbformat": 4,
 "nbformat_minor": 2
}
