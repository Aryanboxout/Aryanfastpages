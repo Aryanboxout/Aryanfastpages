{
 "cells": [
  {
   "cell_type": "markdown",
   "metadata": {},
   "source": [
    "FRQ Question 2 Code:"
   ]
  },
  {
   "cell_type": "code",
   "execution_count": 2,
   "metadata": {
    "vscode": {
     "languageId": "java"
    }
   },
   "outputs": [
    {
     "ename": "CompilationException",
     "evalue": "",
     "output_type": "error",
     "traceback": [
      "\u001b[1m\u001b[30m|   \u001b[1m\u001b[30mpublic class Textbook extends \u001b[0m\u001b[1m\u001b[30m\u001b[41mBook\u001b[0m\u001b[1m\u001b[30m\u001b[0m",
      "\u001b[1m\u001b[31mcannot find symbol\u001b[0m",
      "\u001b[1m\u001b[31m  symbol:   class Book\u001b[0m",
      "",
      "\u001b[1m\u001b[30m|   \u001b[1m\u001b[30m    return \u001b[0m\u001b[1m\u001b[30m\u001b[41msuper\u001b[0m\u001b[1m\u001b[30m.getBookInfo() + \"-\" + edition;\u001b[0m",
      "\u001b[1m\u001b[31mnon-static variable super cannot be referenced from a static context\u001b[0m",
      "",
      "\u001b[1m\u001b[30m|   \u001b[1m\u001b[30m    return \u001b[0m\u001b[1m\u001b[30m\u001b[41msuper.getBookInfo\u001b[0m\u001b[1m\u001b[30m() + \"-\" + edition;\u001b[0m",
      "\u001b[1m\u001b[31mcannot find symbol\u001b[0m",
      "\u001b[1m\u001b[31m  symbol: method getBookInfo()\u001b[0m",
      "",
      "\u001b[1m\u001b[30m|   \u001b[1m\u001b[30m    return \u001b[0m\u001b[1m\u001b[30m\u001b[41mthis.getTitle\u001b[0m\u001b[1m\u001b[30m().equals(otherTextbook.getTitle()) &&\u001b[0m",
      "\u001b[1m\u001b[31mcannot find symbol\u001b[0m",
      "\u001b[1m\u001b[31m  symbol: method getTitle()\u001b[0m",
      "",
      "\u001b[1m\u001b[30m|   \u001b[1m\u001b[30m    return this.getTitle().equals(\u001b[0m\u001b[1m\u001b[30m\u001b[41motherTextbook.getTitle\u001b[0m\u001b[1m\u001b[30m()) &&\u001b[0m",
      "\u001b[1m\u001b[31mcannot find symbol\u001b[0m",
      "\u001b[1m\u001b[31m  symbol:   method getTitle()\u001b[0m",
      ""
     ]
    }
   ],
   "source": [
    "public class Textbook extends Book\n",
    "{\n",
    "    private int edition;\n",
    "\n",
    "  public Textbook(String bookTitle, double bookPrice, int edition)\n",
    "  {\n",
    "    super(bookTitle, bookPrice);\n",
    "    this.edition = edition;\n",
    "  }\n",
    "\n",
    "  public int getEdition()\n",
    "  {\n",
    "    return edition;\n",
    "  }\n",
    "\n",
    "  public String getBookInfo()\n",
    "  {\n",
    "    return super.getBookInfo() + \"-\" + edition;\n",
    "  }\n",
    "\n",
    "  public boolean canSubstituteFor(Textbook otherTextbook)\n",
    "  {\n",
    "   if(this.getTitle().equals(otherTextbook.getTitle()) &&\n",
    "        this.getEdition() >= otherTextbook.getEdition();){\n",
    "\n",
    "            return false;\n",
    "        \n",
    "        }\n",
    "\n",
    "        else{\n",
    "\n",
    "            return true; \n",
    "        }\n",
    "  }\n",
    "}"
   ]
  }
 ],
 "metadata": {
  "kernelspec": {
   "display_name": "Java",
   "language": "java",
   "name": "java"
  },
  "language_info": {
   "codemirror_mode": "java",
   "file_extension": ".jshell",
   "mimetype": "text/x-java-source",
   "name": "Java",
   "pygments_lexer": "java",
   "version": "18.0.2.1+1-1"
  },
  "orig_nbformat": 4,
  "vscode": {
   "interpreter": {
    "hash": "aee8b7b246df8f9039afb4144a1f6fd8d2ca17a180786b69acc140d282b71a49"
   }
  }
 },
 "nbformat": 4,
 "nbformat_minor": 2
}
