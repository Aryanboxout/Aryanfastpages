{
 "cells": [
  {
   "cell_type": "markdown",
   "metadata": {},
   "source": [
    "# Ijava Primitives\n",
    "\n",
    "Aryan's calculator"
   ]
  },
  {
   "cell_type": "markdown",
   "metadata": {},
   "source": [
    "# Ijava Primitives"
   ]
  },
  {
   "cell_type": "code",
   "execution_count": 35,
   "metadata": {},
   "outputs": [
    {
     "name": "stdout",
     "output_type": "stream",
     "text": [
      "2\n",
      "x\n",
      "8\n",
      "Answer= 16\n"
     ]
    }
   ],
   "source": [
    "import java.util.Scanner;\n",
    "\n",
    "public class percent{\n",
    "\n",
    "\n",
    "    public static void main(String args[]){\n",
    "\n",
    "    \tScanner input=new Scanner(System.in);\n",
    "\n",
    "      \n",
    "        int a=input.nextInt();\n",
    "        System.out.println(a);\n",
    "\n",
    "        Scanner input3=new Scanner(System.in);\n",
    "        String operator=input3.nextLine();\n",
    "        System.out.println(operator);\n",
    "\n",
    "        Scanner input2=new Scanner(System.in);\n",
    "        int b=input2.nextInt();\n",
    "        System.out.println(b);\n",
    "\n",
    "\n",
    "       \n",
    "\n",
    "\n",
    "        if(operator.equals(\"+\")){\n",
    "int ans=a+b;\n",
    "            System.out.println(\"Answer= \"+  ans);\n",
    "\n",
    "        }\n",
    "\n",
    "        if(operator.equals(\"x\")){\n",
    "            int answer=a*b;\n",
    "            System.out.println(\"Answer= \"+  answer);\n",
    "\n",
    "        }\n",
    "        if(operator.equals(\"-\")){\n",
    "            //System.out.println(\"Answer= \"+  a-b);\n",
    "\n",
    "        }\n",
    "        if(operator.equals(\"/\")){\n",
    "            double quotiant=(double) a/(double) b;\n",
    "            System.out.println(\"Answer= \"+  quotiant);\n",
    "\n",
    "        }\n",
    "\n",
    "        boolean happy= true(;)\n",
    "        System.out.println(happy);\n",
    "    }\n",
    "}\n",
    "\n",
    "percent.main(null);"
   ]
  },
  {
   "cell_type": "code",
   "execution_count": 39,
   "metadata": {},
   "outputs": [
    {
     "name": "stdout",
     "output_type": "stream",
     "text": [
      "Enter the Principal : Enter the Rate of interest : Enter the Time period : Simple Interest is: 360.0"
     ]
    }
   ],
   "source": [
    "import java.util.Scanner;\n",
    "public class JavaExample\n",
    "{\n",
    "    public static void main(String args[]) \n",
    "    {\n",
    "        float p, r, t, sinterest;\n",
    "        Scanner scan = new Scanner(System.in);\n",
    "        System.out.print(\"Enter the Principal : \");\n",
    "        p = scan.nextFloat();\n",
    "        System.out.print(\"Enter the Rate of interest : \");\n",
    "        r = scan.nextFloat();\n",
    "        System.out.print(\"Enter the Time period : \");\n",
    "        t = scan.nextFloat();\n",
    "        scan.close();\n",
    "        sinterest = (p * r * t) / 100;\n",
    "        System.out.print(\"Simple Interest is: \" +sinterest);\n",
    "    }\n",
    "}\n",
    "JavaExample.main(null);"
   ]
  }
 ],
 "metadata": {
  "kernelspec": {
   "display_name": "Java",
   "language": "java",
   "name": "java"
  },
  "language_info": {
   "codemirror_mode": "java",
   "file_extension": ".jshell",
   "mimetype": "text/x-java-source",
   "name": "java",
   "pygments_lexer": "java",
   "version": "18.0.2.1+1-1"
  },
  "orig_nbformat": 4
 },
 "nbformat": 4,
 "nbformat_minor": 2
}
