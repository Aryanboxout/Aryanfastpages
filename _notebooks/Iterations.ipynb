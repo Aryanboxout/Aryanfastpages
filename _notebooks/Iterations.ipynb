{
 "cells": [
  {
   "cell_type": "markdown",
   "metadata": {},
   "source": [
    "While Loop\n",
    "A sequence of code that loops itself while a specified condition is met. If the condition is no longer true then the loop will stop. Can be used for input validation as well."
   ]
  },
  {
   "cell_type": "markdown",
   "metadata": {},
   "source": [
    "For Loop\n",
    "\n",
    "A sequence of code that loops itself for as long as a condition is met. If the condition is no longer true the loop will stop."
   ]
  },
  {
   "cell_type": "markdown",
   "metadata": {},
   "source": [
    "Recursion Loop\n",
    "Similar to For Loop and While Loop, recursion also repeats itself over and over again. The difference is that for recursion, a function calls itself to repeat (recurses).\n"
   ]
  },
  {
   "cell_type": "markdown",
   "metadata": {},
   "source": [
    "Nested Iteration\n",
    "\n",
    "Nested iterations is when you put a loop inside of another loop. Any of the 3 loops mentioned earlier are usable. It’s less of a java method and more of a technique coders know and utilize."
   ]
  },
  {
   "cell_type": "code",
   "execution_count": null,
   "metadata": {},
   "outputs": [],
   "source": []
  },
  {
   "cell_type": "markdown",
   "metadata": {},
   "source": [
    "Homework"
   ]
  },
  {
   "cell_type": "code",
   "execution_count": null,
   "metadata": {},
   "outputs": [],
   "source": [
    "public class Main { \n",
    "  \n",
    "    public static void main(String[] args) { \n",
    "   int i = 0;\n",
    "     while(i < 5){\n",
    "     System.out.println(i);\n",
    "      i++;\n",
    " \n",
    "   } \n",
    "       \n",
    "   \n",
    "     } \n",
    "   }\n",
    "   \n",
    "   \n",
    "   Main.main(null)\n",
    " \n",
    " "
   ]
  }
 ],
 "metadata": {
  "kernelspec": {
   "display_name": "Java",
   "language": "java",
   "name": "java"
  },
  "language_info": {
   "codemirror_mode": "java",
   "file_extension": ".jshell",
   "mimetype": "text/x-java-source",
   "name": "java",
   "pygments_lexer": "java",
   "version": "18.0.2.1+1-1"
  },
  "orig_nbformat": 4
 },
 "nbformat": 4,
 "nbformat_minor": 2
}
