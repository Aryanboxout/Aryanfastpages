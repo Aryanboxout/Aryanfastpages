{
 "cells": [
  {
   "attachments": {},
   "cell_type": "markdown",
   "metadata": {},
   "source": [
    "# Week 10\n",
    "\n",
    "\n",
    "5-7.5% of the AP Exam, mainly in the multiple choice section\n",
    "A recursive method is method that calls itself.\n",
    "It contains at least one base case that halts recursion and once recursive call\n",
    "Each recursive call has own local variables\n",
    "Parameter values take progress of recursive process\n",
    "A recursion can be replaced with an iterative and give the same result\n",
    "Recursion can traverse String, array, and ArrayList objects\n",
    "\n",
    "\n",
    "Recursion is a programming technique in which a method calls itself to solve a subproblem. This technique can be used to solve problems that can be divided into smaller, similar subproblems. Here is an example of a recursive method in Java:"
   ]
  },
  {
   "cell_type": "code",
   "execution_count": 1,
   "metadata": {},
   "outputs": [],
   "source": [
    "public int factorial(int n) {\n",
    "    if (n == 1) {\n",
    "      return 1;  // base case\n",
    "    }\n",
    "    return n * factorial(n - 1);  // recursive case\n",
    "  }\n",
    "  \n",
    "\n",
    "  "
   ]
  },
  {
   "attachments": {},
   "cell_type": "markdown",
   "metadata": {},
   "source": [
    "In this example, the factorial method calculates the factorial of a given number n. The method uses a base case of n == 1, which means that if the input is 1, the method returns 1 without making any further recursive calls. This is important because it provides a stopping point for the recursion.\n",
    "\n",
    "In the recursive case, the method returns n * factorial(n - 1). This means that the method will call itself with n - 1 as the input. This will continue until the base case is reached, at which point the recursive calls will start returning and the final result will be calculated and returned.\n",
    "\n",
    "Here is an example of how this method can be used:"
   ]
  },
  {
   "cell_type": "code",
   "execution_count": null,
   "metadata": {},
   "outputs": [],
   "source": [
    "int result = factorial(5);  // calls factorial(5), which returns 5 * factorial(4)\n",
    "                            // calls factorial(4), which returns 4 * factorial(3)\n",
    "                            // calls factorial(3), which returns 3 * factorial(2)\n",
    "                            // calls factorial(2), which returns 2 * factorial(1)\n",
    "                            // calls factorial(1), which returns 1\n",
    "                            // the recursive calls start returning:\n",
    "                            // factorial(2) returns 2 * 1 = 2\n",
    "                            // factorial(3) returns 3 * 2 = 6\n",
    "                            // factorial(4) returns 4 * 6 = 24\n",
    "                            // factorial(5) returns 5 * 24 = 120\n",
    "                            // the final result is 120\n"
   ]
  },
  {
   "attachments": {},
   "cell_type": "markdown",
   "metadata": {},
   "source": [
    "Recursion can be a powerful tool for solving problems, but it's important to make sure that the base case is well-defined and that the recursion will eventually come to an end. Otherwise, the method will continue to call itself indefinitely, which can lead to stack overflow and other errors.\n",
    "\n",
    "Here is an example of recursive code in action through printing numbers"
   ]
  },
  {
   "cell_type": "code",
   "execution_count": 2,
   "metadata": {},
   "outputs": [
    {
     "name": "stdout",
     "output_type": "stream",
     "text": [
      "1\n",
      "2\n",
      "3\n",
      "4\n",
      "5\n",
      "6\n",
      "7\n",
      "8\n",
      "9\n",
      "10\n"
     ]
    }
   ],
   "source": [
    "public class RecursiveExample {\n",
    "\n",
    "    public static void main(String[] args) {\n",
    "  \n",
    "      // Print the numbers from 1 to 10\n",
    "      printNumbers(1, 10);\n",
    "    }\n",
    "  \n",
    "    // Recursive function to print the numbers from start to end\n",
    "    public static void printNumbers(int start, int end) {\n",
    "  \n",
    "      // If the start number is greater than the end number, return\n",
    "      if (start > end) {\n",
    "        return;\n",
    "      }\n",
    "  \n",
    "      // Print the start number\n",
    "      System.out.println(start);\n",
    "  \n",
    "      // Call the function again with the start number incremented by 1\n",
    "      printNumbers(start + 1, end);\n",
    "    }\n",
    "  }\n",
    "\n",
    "  RecursiveExample.main(null);"
   ]
  },
  {
   "attachments": {},
   "cell_type": "markdown",
   "metadata": {},
   "source": [
    "World cup recursive hack(extra credit)"
   ]
  },
  {
   "cell_type": "code",
   "execution_count": 3,
   "metadata": {},
   "outputs": [
    {
     "name": "stdout",
     "output_type": "stream",
     "text": [
      "Brazil has won a match in round 1\n",
      "Brazil has won a match in round 2\n",
      "Brazil has won a match in round 3\n",
      "Brazil has won a match in round 4\n",
      "Brazil has won a match in round 5\n",
      "Brazil has won a match in round 6\n",
      "Brazil has won a match in round 7\n",
      "Brazil has won the World Cup!\n"
     ]
    }
   ],
   "source": [
    "public class WorldCup {\n",
    "\n",
    "    // Recursive function to simulate a team advancing through the tournament\n",
    "    public static void advanceTeam(String teamName, int roundsWon) {\n",
    "  \n",
    "      // If the team has won the required number of rounds, they have won the tournament\n",
    "      if (roundsWon == 7) {\n",
    "        System.out.println(teamName + \" has won the World Cup!\");\n",
    "        return;\n",
    "      }\n",
    "  \n",
    "      // Simulate the team winning a match in the current round\n",
    "      System.out.println(teamName + \" has won a match in round \" + (roundsWon + 1));\n",
    "  \n",
    "      // Advance the team to the next round by calling the function again\n",
    "      advanceTeam(teamName, roundsWon + 1);\n",
    "    }\n",
    "  \n",
    "    public static void main(String[] args) {\n",
    "  \n",
    "      // Simulate a team winning the World Cup\n",
    "      advanceTeam(\"Brazil\", 0);\n",
    "    }\n",
    "  }\n",
    "\n",
    "  \n",
    "  WorldCup.main(null);"
   ]
  },
  {
   "attachments": {},
   "cell_type": "markdown",
   "metadata": {},
   "source": [
    "In this program, the advanceTeam() function is called recursively to simulate a team advancing through the tournament by winning matches. Each time the function is called, the number of rounds won is incremented and checked to see if the team has won the required number of rounds to win the tournament. If so, a message is printed and the function returns. Otherwise, the function is called again to simulate the team advancing to the next round. This continues until the team has won the tournament, at which point the function returns and the program ends.\n",
    "\n",
    "\n",
    "\n"
   ]
  }
 ],
 "metadata": {
  "kernelspec": {
   "display_name": "Java",
   "language": "java",
   "name": "java"
  },
  "language_info": {
   "codemirror_mode": "java",
   "file_extension": ".jshell",
   "mimetype": "text/x-java-source",
   "name": "java",
   "pygments_lexer": "java",
   "version": "18.0.2.1+1-1"
  },
  "orig_nbformat": 4
 },
 "nbformat": 4,
 "nbformat_minor": 2
}
