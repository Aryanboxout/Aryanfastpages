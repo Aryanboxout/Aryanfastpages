{
 "cells": [
  {
   "cell_type": "markdown",
   "metadata": {},
   "source": [
    "Array in java is a group of like-typed variables referred to by a common name. Arrays in Java work differently than they do in C/C++. Following are some important points about Java arrays. \n",
    "\n",
    "In Java, all arrays are dynamically allocated. (discussed below)\n",
    "Arrays are stored in contagious memory [consecutive memory locations].\n",
    "Since arrays are objects in Java, we can find their length using the object property length. This is different from C/C++, where we find length using sizeof.\n",
    "A Java array variable can also be declared like other variables with [] after the data type.\n",
    "The variables in the array are ordered, and each has an index beginning from 0.\n",
    "Java array can also be used as a static field, a local variable, or a method parameter.\n",
    "The size of an array must be specified by int or short value and not long.\n",
    "The direct superclass of an array type is Object.\n",
    "Every array type implements the interfaces Cloneable and java.io.Serializable. \n",
    "This storage of arrays helps us randomly accessing the elements of an array [Support Random Access].\n",
    "The size of the array cannot be altered(once initialized).  However, an array reference can be made to point to another array.\n",
    "An array can contain primitives (int, char, etc.) and object (or non-primitive) references of a class depending on the definition of the array. In the case of primitive data types, the actual values are stored in contiguous memory locations."
   ]
  },
  {
   "cell_type": "markdown",
   "metadata": {},
   "source": [
    "Hack 1 Swap the first and last element in the array"
   ]
  },
  {
   "cell_type": "code",
   "execution_count": 21,
   "metadata": {
    "vscode": {
     "languageId": "java"
    }
   },
   "outputs": [
    {
     "name": "stdout",
     "output_type": "stream",
     "text": [
      "Original Array: [20, 30, 40]\n",
      "New array after swapping the first and last elements: [40, 30, 20]\n"
     ]
    }
   ],
   "source": [
    "import java.util.Arrays;\n",
    "import java.util.*;\n",
    "\n",
    " public class ArrayMethods {\n",
    " public static void main(String[] args)\n",
    " {\n",
    "     \n",
    "\tswapping();\n",
    "    \n",
    " }\n",
    "\n",
    "static void swapping() {\n",
    "    int[] array = {20, 30, 40};\n",
    "\tSystem.out.println(\"Original Array: \"+Arrays.toString(array));\n",
    "    int x = array[0];\n",
    "\tarray[0] = array[array.length-1];\n",
    "\tarray[array.length-1] = x;\n",
    "\tSystem.out.println(\"New array after swapping the first and last elements: \"+Arrays.toString(array));  \n",
    "  }\n",
    "\n",
    "\n",
    "\n",
    "\n",
    "\n",
    "  \n",
    " \n",
    "}\n",
    "\n",
    "ArrayMethods.main(null)"
   ]
  },
  {
   "cell_type": "markdown",
   "metadata": {},
   "source": [
    "Hack to Evens in array"
   ]
  },
  {
   "cell_type": "code",
   "execution_count": null,
   "metadata": {
    "vscode": {
     "languageId": "java"
    }
   },
   "outputs": [],
   "source": [
    "import java.util.Arrays;\n",
    "import java.util.*;\n",
    "\n",
    " public class ArrayMethods {\n",
    " public static void main(String[] args)\n",
    " {\n",
    "     \n",
    "\t\n",
    "    evens();\n",
    " }\n",
    "\n",
    "\n",
    "\n",
    "\n",
    "\n",
    "\n",
    "\n",
    "  \n",
    "   static void evens(){\n",
    " int[] number = {6, 8, 11, 16, 21, 23};\n",
    "\tSystem.out.println(\"Original Array: \"+Arrays.toString(number)); \n",
    "    \n",
    "   for(int i=0;i<number.length;i++){  \n",
    "      if(number[i]%2==0){  \n",
    "        System.out.println(number[i]);  \n",
    "        }  \n",
    "\n",
    "  } \n",
    "}\n",
    "\n",
    "ArrayMethods.main(null)"
   ]
  },
  {
   "cell_type": "markdown",
   "metadata": {},
   "source": []
  },
  {
   "cell_type": "markdown",
   "metadata": {},
   "source": [
    "Hack 3 check order (extra credit)"
   ]
  },
  {
   "cell_type": "code",
   "execution_count": 24,
   "metadata": {
    "vscode": {
     "languageId": "java"
    }
   },
   "outputs": [],
   "source": [
    "public class ArrayMethods {\n",
    "\n",
    "    public static boolean isSorted(int[] a) \n",
    "    {\n",
    "        int i;\n",
    "        for(i = 0; i < a.length; i ++);{\n",
    "            if (a[i] < a[i+1]) {\n",
    "                return true;\n",
    "            } else {\n",
    "                return false;   \n",
    "            }\n",
    "        }\n",
    "    }\n",
    "    public static void main(String[] args)\n",
    "    {\n",
    "        int ar[] = {3,5,6,7};\n",
    "        System.out.println(isSorted(ar));   \n",
    "    }\n",
    "\n",
    "\n",
    "    \n",
    "}"
   ]
  },
  {
   "cell_type": "markdown",
   "metadata": {},
   "source": [
    "Hack 4 checking duplicates in array (extra credit)"
   ]
  },
  {
   "cell_type": "code",
   "execution_count": null,
   "metadata": {
    "vscode": {
     "languageId": "java"
    }
   },
   "outputs": [],
   "source": [
    "public class ArrayMethods{\n",
    "\n",
    "    \n",
    "    public static void main(String[] args)\n",
    "    {\n",
    "        \n",
    "       \n",
    "       duplicate();\n",
    "    }\n",
    "    \n",
    "    \n",
    "  \n",
    "  \n",
    "    public static duplicates {\n",
    "\n",
    "\n",
    "        int[] number = {6, 8, 11, 16, 21, 23};\n",
    "\tSystem.out.println(\"Original Array: \"+Arrays.toString(number)); \n",
    "        \n",
    "        for (int i = 0; i < names.length; i++) {\n",
    "        for (int j = i + 1 ; j < names.length; j++) {\n",
    "             if (names[i].equals(names[j])) {\n",
    "                      // got the duplicate element\n",
    "             }\n",
    "        }\n",
    "    }\n",
    "\n",
    "}\n",
    "\n",
    "\n",
    "\n",
    "\n",
    "    \n",
    "}"
   ]
  }
 ],
 "metadata": {
  "kernelspec": {
   "display_name": "Java",
   "language": "java",
   "name": "java"
  },
  "language_info": {
   "codemirror_mode": "java",
   "file_extension": ".jshell",
   "mimetype": "text/x-java-source",
   "name": "Java",
   "pygments_lexer": "java",
   "version": "18.0.2.1+1-1"
  },
  "orig_nbformat": 4
 },
 "nbformat": 4,
 "nbformat_minor": 2
}
