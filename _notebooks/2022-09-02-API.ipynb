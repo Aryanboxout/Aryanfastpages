{
 "cells": [
  {
   "cell_type": "code",
   "execution_count": null,
   "metadata": {
    "vscode": {
     "languageId": "java"
    }
   },
   "outputs": [],
   "source": [
    "import java.net.URI;\n",
    "import java.net.http.HttpClient;\n",
    "import java.net.http.HttpRequest;\n",
    "import java.net.http.HttpResponse;\n",
    "\n",
    "//RapidAPI header  https://rapidapi.com/spamakashrajtech/api/corona-virus-world-and-india-data\n",
    "HttpRequest request = HttpRequest.newBuilder()\n",
    "    .uri(URI.create(\"https://corona-virus-world-and-india-data.p.rapidapi.com/api\"))\n",
    "    .header(\"x-rapidapi-key\", \"dec069b877msh0d9d0827664078cp1a18fajsn2afac35ae063\")\n",
    "    .header(\"x-rapidapi-host\", \"corona-virus-world-and-india-data.p.rapidapi.com\")\n",
    "    .method(\"GET\", HttpRequest.BodyPublishers.noBody())\n",
    "    .build();\n",
    "\n",
    "//RapidAPI request and response\n",
    "HttpResponse<String> response = HttpClient.newHttpClient().send(request, HttpResponse.BodyHandlers.ofString());\n",
    "\n",
    "//RapidAPI Body\n",
    "System.out.println(response.body());"
   ]
  },
  {
   "cell_type": "code",
   "execution_count": 2,
   "metadata": {
    "vscode": {
     "languageId": "java"
    }
   },
   "outputs": [
    {
     "ename": "CompilationException",
     "evalue": "",
     "output_type": "error",
     "traceback": [
      "\u001b[1m\u001b[30m|   \u001b[1m\u001b[30m\u001b[0m\u001b[1m\u001b[30m\u001b[41mHttpRequest\u001b[0m\u001b[1m\u001b[30m request = HttpRequest.newBuilder()\u001b[0m",
      "\u001b[1m\u001b[31mcannot find symbol\u001b[0m",
      "\u001b[1m\u001b[31m  symbol:   class HttpRequest\u001b[0m",
      "",
      "\u001b[1m\u001b[30m|   \u001b[1m\u001b[30mHttpRequest request = \u001b[0m\u001b[1m\u001b[30m\u001b[41mHttpRequest\u001b[0m\u001b[1m\u001b[30m.newBuilder()\u001b[0m",
      "\u001b[1m\u001b[31mcannot find symbol\u001b[0m",
      "\u001b[1m\u001b[31m  symbol:   variable HttpRequest\u001b[0m",
      "",
      "\u001b[1m\u001b[30m|   \u001b[1m\u001b[30m\t\t.method(\"GET\", \u001b[0m\u001b[1m\u001b[30m\u001b[41mHttpRequest.BodyPublishers\u001b[0m\u001b[1m\u001b[30m.noBody())\u001b[0m",
      "\u001b[1m\u001b[31mpackage HttpRequest does not exist\u001b[0m",
      ""
     ]
    }
   ],
   "source": [
    "HttpRequest request = HttpRequest.newBuilder()\n",
    "\t\t.uri(URI.create(\"https://free-nba.p.rapidapi.com/players/%7Bid%7D\"))\n",
    "\t\t.header(\"X-RapidAPI-Key\", \"a53d1a4acemsh90db192dc27d5f7p1028a2jsn2e483944f85c\")\n",
    "\t\t.header(\"X-RapidAPI-Host\", \"free-nba.p.rapidapi.com\")\n",
    "\t\t.method(\"GET\", HttpRequest.BodyPublishers.noBody())\n",
    "\t\t.build();\n",
    "HttpResponse<String> response = HttpClient.newHttpClient().send(request, HttpResponse.BodyHandlers.ofString());\n",
    "System.out.println(response.body());"
   ]
  },
  {
   "cell_type": "code",
   "execution_count": 1,
   "metadata": {
    "vscode": {
     "languageId": "java"
    }
   },
   "outputs": [
    {
     "ename": "CompilationException",
     "evalue": "",
     "output_type": "error",
     "traceback": [
      "\u001b[1m\u001b[30m|   \u001b[1m\u001b[30m\u001b[0m\u001b[1m\u001b[30m\u001b[41mHttpRequest\u001b[0m\u001b[1m\u001b[30m request = HttpRequest.newBuilder()\u001b[0m",
      "\u001b[1m\u001b[31mcannot find symbol\u001b[0m",
      "\u001b[1m\u001b[31m  symbol:   class HttpRequest\u001b[0m",
      "",
      "\u001b[1m\u001b[30m|   \u001b[1m\u001b[30mHttpRequest request = \u001b[0m\u001b[1m\u001b[30m\u001b[41mHttpRequest\u001b[0m\u001b[1m\u001b[30m.newBuilder()\u001b[0m",
      "\u001b[1m\u001b[31mcannot find symbol\u001b[0m",
      "\u001b[1m\u001b[31m  symbol:   variable HttpRequest\u001b[0m",
      "",
      "\u001b[1m\u001b[30m|   \u001b[1m\u001b[30m\t\t.method(\"GET\", \u001b[0m\u001b[1m\u001b[30m\u001b[41mHttpRequest.BodyPublishers\u001b[0m\u001b[1m\u001b[30m.noBody())\u001b[0m",
      "\u001b[1m\u001b[31mpackage HttpRequest does not exist\u001b[0m",
      ""
     ]
    }
   ],
   "source": [
    "HttpRequest request = HttpRequest.newBuilder()\n",
    "\t\t.uri(URI.create(\"https://free-news.p.rapidapi.com/v1/search?q=Elon%20Musk&lang=en\"))\n",
    "\t\t.header(\"X-RapidAPI-Key\", \"a53d1a4acemsh90db192dc27d5f7p1028a2jsn2e483944f85c\")\n",
    "\t\t.header(\"X-RapidAPI-Host\", \"free-news.p.rapidapi.com\")\n",
    "\t\t.method(\"GET\", HttpRequest.BodyPublishers.noBody())\n",
    "\t\t.build();\n",
    "HttpResponse<String> response = HttpClient.newHttpClient().send(request, HttpResponse.BodyHandlers.ofString());\n",
    "System.out.println(response.body());"
   ]
  }
 ],
 "metadata": {
  "kernelspec": {
   "display_name": "Java",
   "language": "java",
   "name": "java"
  },
  "language_info": {
   "codemirror_mode": "java",
   "file_extension": ".jshell",
   "mimetype": "text/x-java-source",
   "name": "Java",
   "pygments_lexer": "java",
   "version": "18.0.2.1+1-1"
  },
  "orig_nbformat": 4
 },
 "nbformat": 4,
 "nbformat_minor": 2
}
