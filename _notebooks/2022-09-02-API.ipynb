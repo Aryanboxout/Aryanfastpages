{
 "cells": [
  {
   "cell_type": "code",
   "execution_count": 59,
   "metadata": {},
   "outputs": [
    {
     "name": "stdout",
     "output_type": "stream",
     "text": [
      "{\"location\":{\"city\":\"Sunnyvale\",\"region\":\" CA\",\"woeid\":2502265,\"country\":\"United States\",\"lat\":37.371609,\"long\":-122.038254,\"timezone_id\":\"America/Los_Angeles\"},\"current_observation\":{\"wind\":{\"chill\":68,\"direction\":338,\"speed\":16},\"atmosphere\":{\"humidity\":59,\"visibility\":9.01,\"pressure\":30.01,\"rising\":0},\"astronomy\":{\"sunrise\":\"7:5 am\",\"sunset\":\"6:49 pm\"},\"condition\":{\"code\":32,\"text\":\"Sunny\",\"temperature\":70},\"pubDate\":1664816100},\"forecasts\":[{\"day\":\"Mon\",\"date\":1664769600,\"low\":57,\"high\":73,\"text\":\"Mostly Sunny\",\"code\":34},{\"day\":\"Tue\",\"date\":1664856000,\"low\":57,\"high\":75,\"text\":\"Partly Cloudy\",\"code\":30},{\"day\":\"Wed\",\"date\":1664942400,\"low\":56,\"high\":79,\"text\":\"Mostly Sunny\",\"code\":34},{\"day\":\"Thu\",\"date\":1665028800,\"low\":58,\"high\":80,\"text\":\"Mostly Sunny\",\"code\":34},{\"day\":\"Fri\",\"date\":1665115200,\"low\":60,\"high\":80,\"text\":\"Mostly Sunny\",\"code\":34},{\"day\":\"Sat\",\"date\":1665201600,\"low\":59,\"high\":79,\"text\":\"Mostly Sunny\",\"code\":34},{\"day\":\"Sun\",\"date\":1665288000,\"low\":57,\"high\":79,\"text\":\"Mostly Sunny\",\"code\":34},{\"day\":\"Mon\",\"date\":1665374400,\"low\":58,\"high\":78,\"text\":\"Mostly Sunny\",\"code\":34},{\"day\":\"Tue\",\"date\":1665460800,\"low\":56,\"high\":74,\"text\":\"Partly Cloudy\",\"code\":30},{\"day\":\"Wed\",\"date\":1665547200,\"low\":53,\"high\":77,\"text\":\"Mostly Sunny\",\"code\":34},{\"day\":\"Thu\",\"date\":1665633600,\"low\":52,\"high\":76,\"text\":\"Sunny\",\"code\":32}]}\n"
     ]
    },
    {
     "ename": "CompilationException",
     "evalue": "",
     "output_type": "error",
     "traceback": [
      "\u001b[1m\u001b[30m|   \u001b[1m\u001b[30mString json_String_to_print = \u001b[0m\u001b[1m\u001b[30m\u001b[41m\u001b[0m\u001b[1m\u001b[30m...\u001b[0m",
      "\u001b[1m\u001b[31millegal start of expression\u001b[0m",
      ""
     ]
    }
   ],
   "source": [
    "\n",
    "import java.net.URI;\n",
    "import java.net.http.HttpClient;\n",
    "import java.net.http.HttpRequest;\n",
    "import java.net.http.HttpResponse;\n",
    "double lat=37.372;\n",
    "double longitude= -122.038;\n",
    "\n",
    "HttpRequest request = HttpRequest.newBuilder()\n",
    "\t\t//.uri(URI.create(\"https://yahoo-weather5.p.rapidapi.com/weather?lat=37.372&long=-122.038&format=json&u=f\"))\n",
    "\t\t.uri(URI.create(\"https://yahoo-weather5.p.rapidapi.com/weather?lat=\"+lat+\"&long=\"+longitude+\"&format=json&u=f\"))\n",
    "\t\t.header(\"X-RapidAPI-Key\", \"a53d1a4acemsh90db192dc27d5f7p1028a2jsn2e483944f85c\")\n",
    "\t\t.header(\"X-RapidAPI-Host\", \"yahoo-weather5.p.rapidapi.com\")\n",
    "\t\t.method(\"GET\", HttpRequest.BodyPublishers.noBody())\n",
    "\t\t.build();\n",
    "HttpResponse<String> response = HttpClient.newHttpClient().send(request, HttpResponse.BodyHandlers.ofString());\n",
    "System.out.println(response.body());\n",
    "\n",
    "a"
   ]
  },
  {
   "cell_type": "code",
   "execution_count": 58,
   "metadata": {},
   "outputs": [
    {
     "ename": "CompilationException",
     "evalue": "",
     "output_type": "error",
     "traceback": [
      "\u001b[1m\u001b[30m|   \u001b[1m\u001b[30mHttpResponse<String> response = \u001b[0m\u001b[1m\u001b[30m\u001b[41mHttpClient.newHttpClient().send(request, HttpResponse.BodyHandlers.ofString())\u001b[0m\u001b[1m\u001b[30m;\u001b[0m",
      "\u001b[1m\u001b[31munreported exception java.io.IOException; must be caught or declared to be thrown\u001b[0m",
      ""
     ]
    }
   ],
   "source": [
    "import java.net.URI;\n",
    "import java.net.http.HttpClient;\n",
    "import java.net.http.HttpRequest;\n",
    "import java.net.http.HttpResponse;\n",
    "\n",
    "public class Api{\n",
    "  \n",
    " double lat;\n",
    " double longitude;\n",
    "\n",
    "  \n",
    "   Api(double lat, double longitude) {\n",
    " this.lat= lat;\n",
    " this.longitude= longitude;\n",
    "   }\n",
    "\n",
    "   public void Call()\n",
    "   {\n",
    "      HttpRequest request = HttpRequest.newBuilder()\n",
    "\t\t//.uri(URI.create(\"https://yahoo-weather5.p.rapidapi.com/weather?lat=37.372&long=-122.038&format=json&u=f\"))\n",
    "\t\t.uri(URI.create(\"https://yahoo-weather5.p.rapidapi.com/weather?lat=\"+this.lat+\"&long=\"+this.longitude+\"&format=json&u=f\"))\n",
    "\t\t.header(\"X-RapidAPI-Key\", \"a53d1a4acemsh90db192dc27d5f7p1028a2jsn2e483944f85c\")\n",
    "\t\t.header(\"X-RapidAPI-Host\", \"yahoo-weather5.p.rapidapi.com\")\n",
    "\t\t.method(\"GET\", HttpRequest.BodyPublishers.noBody())\n",
    "\t\t.build();\n",
    "HttpResponse<String> response = HttpClient.newHttpClient().send(request, HttpResponse.BodyHandlers.ofString());\n",
    "System.out.println(response.body());\n",
    "  \n",
    "   }\n",
    "   \n",
    "\n",
    "\n",
    "}\n",
    "\n",
    "public class driver{\n",
    "\n",
    "   Public static void main(String[] args){\n",
    "      Api first=new Api(37.372,-122.038);\n",
    "      new.Call();\n",
    "          \n",
    "          \n",
    "         }\n",
    "\n",
    "}\n",
    "\n",
    "\n",
    "   \n",
    "\n",
    "\n",
    "driver.main(null);\n"
   ]
  },
  {
   "cell_type": "code",
   "execution_count": null,
   "metadata": {},
   "outputs": [],
   "source": []
  }
 ],
 "metadata": {
  "kernelspec": {
   "display_name": "Java",
   "language": "java",
   "name": "java"
  },
  "language_info": {
   "codemirror_mode": "java",
   "file_extension": ".jshell",
   "mimetype": "text/x-java-source",
   "name": "java",
   "pygments_lexer": "java",
   "version": "18.0.2.1+1-1"
  },
  "orig_nbformat": 4
 },
 "nbformat": 4,
 "nbformat_minor": 2
}
