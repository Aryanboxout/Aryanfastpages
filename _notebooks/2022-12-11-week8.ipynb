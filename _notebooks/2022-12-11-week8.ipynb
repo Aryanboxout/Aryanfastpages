{
 "cells": [
  {
   "attachments": {},
   "cell_type": "markdown",
   "metadata": {},
   "source": [
    "2D Iterations and Repetition\n",
    "\n",
    "\n",
    "\n",
    "\n",
    " class for 2D array learning."
   ]
  },
  {
   "attachments": {},
   "cell_type": "markdown",
   "metadata": {},
   "source": [
    "#Week 8"
   ]
  },
  {
   "cell_type": "code",
   "execution_count": null,
   "metadata": {},
   "outputs": [],
   "source": [
    "public class TwoDArray {\n",
    "    private int[][] array;  // The 2D array\n",
    "  \n",
    "    // Constructor for the TwoDArray class\n",
    "    public TwoDArray(int rows, int columns) {\n",
    "      // Create a new 2D array with the specified number of rows and columns\n",
    "      array = new int[rows][columns];\n",
    "    }\n",
    "  \n",
    "    // Method to set the value of an element in the 2D array\n",
    "    public void setValue(int row, int column, int value) {\n",
    "      // Set the value of the specified element in the array\n",
    "      array[row][column] = value;\n",
    "    }\n",
    "  \n",
    "    // Method to get the value of an element in the 2D array\n",
    "    public int getValue(int row, int column) {\n",
    "      // Return the value of the specified element in the array\n",
    "      return array[row][column];\n",
    "    }\n",
    "  \n",
    "    // Method to print the 2D array\n",
    "    public void printArray() {\n",
    "      // Loop through each row in the array\n",
    "      for (int i = 0; i < array.length; i++) {\n",
    "        // Loop through each column in the row\n",
    "        for (int j = 0; j < array[i].length; j++) {\n",
    "          // Print the value of the current element\n",
    "          System.out.print(array[i][j] + \" \");\n",
    "        }\n",
    "        // Print a newline after each row\n",
    "        System.out.println();\n",
    "      }\n",
    "    }\n",
    "  }\n",
    "  "
   ]
  },
  {
   "attachments": {},
   "cell_type": "markdown",
   "metadata": {},
   "source": [
    "2D Iterations and Repetition are important concepts in computer science and programming. They involve using loops and other control structures to repeat certain operations or processes multiple times.\n",
    "\n",
    "One common use of 2D iterations and repetition is to process data in a 2D array. For example, you might use a loop to iterate over each row and column of a 2D array, and then perform some operation on each element of the array. This can be useful for tasks such as searching for a specific value in the array, calculating the sum or average of all elements in the array, or printing the array to the screen.\n",
    "\n",
    "Another common use of 2D iterations and repetition is to create and manipulate 2D shapes or patterns. For example, you might use a nested loop to generate a grid of squares or a checkerboard pattern. You can also use loops and repetition to animate 2D graphics or simulate complex behaviors, such as the movement of objects in a game.\n",
    "\n",
    "In addition to 2D arrays, 2D iterations and repetition can also be applied to other data structures, such as 2D linked lists or 2D trees. These data structures can be useful for storing and organizing large or complex datasets, and loops and repetition can be used to efficiently process and manipulate the data.\n",
    "\n",
    "Overall, 2D iterations and repetition are powerful tools for working with 2D data and creating complex 2D structures and behaviors. They allow for efficient and flexible processing of data, and can be applied to a wide range of applications in computer science and programming.\n",
    "\n",
    "\n",
    "\n",
    "\n",
    "Aryan Shah\n",
    "Create a method too initialize a 2D array with arbitrary values\n",
    "Here is an example of a method in Java for initializing a 2D array with arbitrary values:\n",
    "\n",
    "Copy code\n",
    "public void initializeArray(int[][] array, int value) {\n",
    "  // Loop through each row in the array\n",
    "  for (int i = 0; i < array.length; i++) {\n",
    "    // Loop through each column in the row\n",
    "    for (int j = 0; j < array[i].length; j++) {\n",
    "      // Set the value of the current element to the specified value\n",
    "      array[i][j] = value;\n",
    "    }\n",
    "  }\n",
    "\n"
   ]
  },
  {
   "attachments": {},
   "cell_type": "markdown",
   "metadata": {},
   "source": [
    "Create a method too initialize a 2D array with arbitrary values\n"
   ]
  },
  {
   "cell_type": "code",
   "execution_count": null,
   "metadata": {},
   "outputs": [],
   "source": [
    "public void initializeArray(int[][] array, int value) {\n",
    "    // Loop through each row in the array\n",
    "    for (int i = 0; i < array.length; i++) {\n",
    "      // Loop through each column in the row\n",
    "      for (int j = 0; j < array[i].length; j++) {\n",
    "        // Set the value of the current element to the specified value\n",
    "        array[i][j] = value;\n",
    "      }\n",
    "    }\n",
    "  }\n",
    "  "
   ]
  },
  {
   "attachments": {},
   "cell_type": "markdown",
   "metadata": {},
   "source": [
    "Create a method to reverse the 2D array and print out the values"
   ]
  },
  {
   "cell_type": "code",
   "execution_count": null,
   "metadata": {},
   "outputs": [],
   "source": [
    "public void initializeArray(int[][] array, int value) {\n",
    "    // Loop through each row in the array\n",
    "    for (int i = 0; i < array.length; i++) {\n",
    "      // Loop through each column in the row\n",
    "      for (int j = 0; j < array[i].length; j++) {\n",
    "        // Set the value of the current element to the specified value\n",
    "        array[i][j] = value;\n",
    "      }\n",
    "    }\n",
    "  }\n",
    "  "
   ]
  },
  {
   "attachments": {},
   "cell_type": "markdown",
   "metadata": {},
   "source": [
    "Create a method that asks for the input of a position and it returns the corresponding value "
   ]
  },
  {
   "cell_type": "code",
   "execution_count": null,
   "metadata": {},
   "outputs": [],
   "source": [
    "public int getValueFromPosition(int[][] array) {\n",
    "    // Create a Scanner object for reading input\n",
    "    Scanner input = new Scanner(System.in);\n",
    "  \n",
    "    // Ask the user for the row and column of the position\n",
    "    System.out.print(\"Enter the row of the position: \");\n",
    "    int row = input.nextInt();\n",
    "    System.out.print(\"Enter the column of the position: \");\n",
    "    int column = input.nextInt();\n",
    "  \n",
    "    // Return the value of the element at the specified position\n",
    "    return array[row][column];\n",
    "  }\n",
    "  "
   ]
  },
  {
   "attachments": {},
   "cell_type": "markdown",
   "metadata": {},
   "source": [
    "Create a method that multiplies each value in a row and then adds all the products together"
   ]
  },
  {
   "cell_type": "code",
   "execution_count": null,
   "metadata": {},
   "outputs": [],
   "source": [
    "public int multiplyAndAdd(int[][] array, int row) {\n",
    "    // Create a variable for storing the sum of the products\n",
    "    int sum = 0;\n",
    "  \n",
    "    // Loop through each column in the specified row\n",
    "    for (int i = 0; i < array[row].length; i++) {\n",
    "      // Multiply the current element by the next element in the row\n",
    "      int product = array[row][i] * array[row][i + 1];\n",
    "  \n",
    "      // Add the product to the sum\n",
    "      sum += product;\n",
    "    }\n",
    "  \n",
    "    // Return the sum of the products\n",
    "    return sum;\n",
    "  }\n",
    "  "
   ]
  }
 ],
 "metadata": {
  "kernelspec": {
   "display_name": "Java",
   "language": "java",
   "name": "java"
  },
  "language_info": {
   "name": "java"
  },
  "orig_nbformat": 4
 },
 "nbformat": 4,
 "nbformat_minor": 2
}
