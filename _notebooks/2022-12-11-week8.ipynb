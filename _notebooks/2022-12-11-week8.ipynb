{
 "cells": [
  {
   "attachments": {},
   "cell_type": "markdown",
   "metadata": {},
   "source": [
    "# Week 8\n",
    "\n",
    "2D Iterations and Repetition\n",
    "\n",
    "\n",
    "\n",
    "\n",
    " class for 2D array learning."
   ]
  },
  {
   "attachments": {},
   "cell_type": "markdown",
   "metadata": {},
   "source": [
    "In Java, a 2D array is an array of arrays. It is used to store a collection of data, where each element in the collection is itself an array. This allows you to store multiple values in a single variable, and access them using a pair of indices.\n",
    "\n",
    "\n",
    "Here is an example of how to create and initialize a 2D array in Java:"
   ]
  },
  {
   "cell_type": "code",
   "execution_count": null,
   "metadata": {
    "vscode": {
     "languageId": "java"
    }
   },
   "outputs": [],
   "source": [
    "int[][] array = new int[3][4];\n",
    "\n",
    "// Initialize the array with some values\n",
    "for (int i = 0; i < 3; i++) {\n",
    "    for (int j = 0; j < 4; j++) {\n",
    "        array[i][j] = i * j;\n",
    "    }\n",
    "}\n"
   ]
  },
  {
   "attachments": {},
   "cell_type": "markdown",
   "metadata": {},
   "source": [
    "In this example, the 2D array array has 3 rows and 4 columns. It is initialized with the values 0, 0, 0, 0, 0, 1, 2, 3, 0, 2, 4, 6. You can access the elements in the array using a pair of indices, like this:"
   ]
  },
  {
   "cell_type": "code",
   "execution_count": null,
   "metadata": {
    "vscode": {
     "languageId": "java"
    }
   },
   "outputs": [],
   "source": [
    "int element = array[i][j];\n"
   ]
  },
  {
   "attachments": {},
   "cell_type": "markdown",
   "metadata": {},
   "source": [
    "Here, i is the index of the row, and j is the index of the column. This would retrieve the element in the ith row and the jth column of the array.\n",
    "\n",
    "You can also use a 2D array to store objects, like this:\n",
    "\n"
   ]
  },
  {
   "cell_type": "code",
   "execution_count": null,
   "metadata": {
    "vscode": {
     "languageId": "java"
    }
   },
   "outputs": [],
   "source": [
    "String[][] array = new String[3][4];\n",
    "\n",
    "// Initialize the array with some values\n",
    "for (int i = 0; i < 3; i++) {\n",
    "    for (int j = 0; j < 4; j++) {\n",
    "        array[i][j] = \"Element \" + i + \",\" + j;\n",
    "    }\n",
    "}\n"
   ]
  },
  {
   "attachments": {},
   "cell_type": "markdown",
   "metadata": {},
   "source": [
    "This creates a 2D array of String objects, with 3 rows and 4 columns. The array is initialized with the values \"Element 0,0\", \"Element 0,1\", \"Element 0,2\", \"Element 0,3\", \"Element 1,0\", \"Element 1,1\", \"Element 1,2\", \"Element 1,3\", \"Element 2,0\", \"Element 2,1\", \"Element 2,2\", \"Element 2,3\".\n",
    "\n",
    "You can use a 2D array when you need to store a collection of data where each element has multiple values. This can be useful in many applications, such as when working with matrices or images. For more information about 2D arrays in Java, you can refer to the Java documentation."
   ]
  },
  {
   "attachments": {},
   "cell_type": "markdown",
   "metadata": {},
   "source": [
    "# hacks"
   ]
  },
  {
   "cell_type": "code",
   "execution_count": null,
   "metadata": {
    "vscode": {
     "languageId": "java"
    }
   },
   "outputs": [],
   "source": [
    "public class TwoDArray {\n",
    "    private int[][] array;  // The 2D array\n",
    "  \n",
    "    // Constructor for the TwoDArray class\n",
    "    public TwoDArray(int rows, int columns) {\n",
    "      // Create a new 2D array with the specified number of rows and columns\n",
    "      array = new int[rows][columns];\n",
    "    }\n",
    "  \n",
    "    // Method to set the value of an element in the 2D array\n",
    "    public void setValue(int row, int column, int value) {\n",
    "      // Set the value of the specified element in the array\n",
    "      array[row][column] = value;\n",
    "    }\n",
    "  \n",
    "    // Method to get the value of an element in the 2D array\n",
    "    public int getValue(int row, int column) {\n",
    "      // Return the value of the specified element in the array\n",
    "      return array[row][column];\n",
    "    }\n",
    "  \n",
    "    // Method to print the 2D array\n",
    "    public void printArray() {\n",
    "      // Loop through each row in the array\n",
    "      for (int i = 0; i < array.length; i++) {\n",
    "        // Loop through each column in the row\n",
    "        for (int j = 0; j < array[i].length; j++) {\n",
    "          // Print the value of the current element\n",
    "          System.out.print(array[i][j] + \" \");\n",
    "        }\n",
    "        // Print a newline after each row\n",
    "        System.out.println();\n",
    "      }\n",
    "    }\n",
    "  }\n",
    "  "
   ]
  },
  {
   "attachments": {},
   "cell_type": "markdown",
   "metadata": {},
   "source": [
    "2D Iterations and Repetition are important concepts in computer science and programming. They involve using loops and other control structures to repeat certain operations or processes multiple times.\n",
    "\n",
    "One common use of 2D iterations and repetition is to process data in a 2D array. For example, you might use a loop to iterate over each row and column of a 2D array, and then perform some operation on each element of the array. This can be useful for tasks such as searching for a specific value in the array, calculating the sum or average of all elements in the array, or printing the array to the screen.\n",
    "\n",
    "Another common use of 2D iterations and repetition is to create and manipulate 2D shapes or patterns. For example, you might use a nested loop to generate a grid of squares or a checkerboard pattern. You can also use loops and repetition to animate 2D graphics or simulate complex behaviors, such as the movement of objects in a game.\n",
    "\n",
    "In addition to 2D arrays, 2D iterations and repetition can also be applied to other data structures, such as 2D linked lists or 2D trees. These data structures can be useful for storing and organizing large or complex datasets, and loops and repetition can be used to efficiently process and manipulate the data.\n",
    "\n",
    "Overall, 2D iterations and repetition are powerful tools for working with 2D data and creating complex 2D structures and behaviors. They allow for efficient and flexible processing of data, and can be applied to a wide range of applications in computer science and programming.\n",
    "\n",
    "\n",
    "\n",
    "\n",
    "Aryan Shah\n",
    "Create a method too initialize a 2D array with arbitrary values\n",
    "Here is an example of a method in Java for initializing a 2D array with arbitrary values:\n",
    "\n",
    "Copy code\n",
    "public void initializeArray(int[][] array, int value) {\n",
    "  // Loop through each row in the array\n",
    "  for (int i = 0; i < array.length; i++) {\n",
    "    // Loop through each column in the row\n",
    "    for (int j = 0; j < array[i].length; j++) {\n",
    "      // Set the value of the current element to the specified value\n",
    "      array[i][j] = value;\n",
    "    }\n",
    "  }\n",
    "\n"
   ]
  },
  {
   "attachments": {},
   "cell_type": "markdown",
   "metadata": {},
   "source": [
    "Create a method too initialize a 2D array with arbitrary values\n"
   ]
  },
  {
   "cell_type": "code",
   "execution_count": null,
   "metadata": {
    "vscode": {
     "languageId": "java"
    }
   },
   "outputs": [],
   "source": [
    "public void initializeArray(int[][] array, int value) {\n",
    "    // Loop through each row in the array\n",
    "    for (int i = 0; i < array.length; i++) {\n",
    "      // Loop through each column in the row\n",
    "      for (int j = 0; j < array[i].length; j++) {\n",
    "        // Set the value of the current element to the specified value\n",
    "        array[i][j] = value;\n",
    "      }\n",
    "    }\n",
    "  }\n",
    "  "
   ]
  },
  {
   "attachments": {},
   "cell_type": "markdown",
   "metadata": {},
   "source": [
    "Create a method to reverse the 2D array and print out the values"
   ]
  },
  {
   "cell_type": "code",
   "execution_count": null,
   "metadata": {
    "vscode": {
     "languageId": "java"
    }
   },
   "outputs": [],
   "source": [
    "public void initializeArray(int[][] array, int value) {\n",
    "    // Loop through each row in the array\n",
    "    for (int i = 0; i < array.length; i++) {\n",
    "      // Loop through each column in the row\n",
    "      for (int j = 0; j < array[i].length; j++) {\n",
    "        // Set the value of the current element to the specified value\n",
    "        array[i][j] = value;\n",
    "      }\n",
    "    }\n",
    "  }\n",
    "  "
   ]
  },
  {
   "attachments": {},
   "cell_type": "markdown",
   "metadata": {},
   "source": [
    "Create a method that asks for the input of a position and it returns the corresponding value "
   ]
  },
  {
   "cell_type": "code",
   "execution_count": null,
   "metadata": {
    "vscode": {
     "languageId": "java"
    }
   },
   "outputs": [],
   "source": [
    "public int getValueFromPosition(int[][] array) {\n",
    "    // Create a Scanner object for reading input\n",
    "    Scanner input = new Scanner(System.in);\n",
    "  \n",
    "    // Ask the user for the row and column of the position\n",
    "    System.out.print(\"Enter the row of the position: \");\n",
    "    int row = input.nextInt();\n",
    "    System.out.print(\"Enter the column of the position: \");\n",
    "    int column = input.nextInt();\n",
    "  \n",
    "    // Return the value of the element at the specified position\n",
    "    return array[row][column];\n",
    "  }\n",
    "  "
   ]
  },
  {
   "attachments": {},
   "cell_type": "markdown",
   "metadata": {},
   "source": [
    "Create a method that multiplies each value in a row and then adds all the products together"
   ]
  },
  {
   "cell_type": "code",
   "execution_count": null,
   "metadata": {
    "vscode": {
     "languageId": "java"
    }
   },
   "outputs": [],
   "source": [
    "public int multiplyAndAdd(int[][] array, int row) {\n",
    "    // Create a variable for storing the sum of the products\n",
    "    int sum = 0;\n",
    "  \n",
    "    // Loop through each column in the specified row\n",
    "    for (int i = 0; i < array[row].length; i++) {\n",
    "      // Multiply the current element by the next element in the row\n",
    "      int product = array[row][i] * array[row][i + 1];\n",
    "  \n",
    "      // Add the product to the sum\n",
    "      sum += product;\n",
    "    }\n",
    "  \n",
    "    // Return the sum of the products\n",
    "    return sum;\n",
    "  }\n",
    "  "
   ]
  },
  {
   "attachments": {},
   "cell_type": "markdown",
   "metadata": {},
   "source": [
    "World cup extra credit hack using concepts understood"
   ]
  },
  {
   "cell_type": "code",
   "execution_count": 1,
   "metadata": {
    "vscode": {
     "languageId": "java"
    }
   },
   "outputs": [
    {
     "name": "stdout",
     "output_type": "stream",
     "text": [
      "Group 1: [Brazil, Croatia, Mexico, Cameroon]\n",
      "Group 2: [Spain, Netherlands, Chile, Australia]\n",
      "Group 3: [Colombia, Greece, Ivory Coast, Japan]\n",
      "Group 4: [Uruguay, Costa Rica, England, Italy]\n",
      "Group 5: [Switzerland, Ecuador, France, Honduras]\n",
      "Group 6: [Argentina, Bosnia and Herzegovina, Iran, Nigeria]\n",
      "Group 7: [Germany, Portugal, Ghana, USA]\n",
      "Group 8: [Belgium, Algeria, Russia, Korea Republic]\n"
     ]
    }
   ],
   "source": [
    "public class WorldCup {\n",
    "\n",
    "    public static void main(String[] args) {\n",
    "  \n",
    "      // Create a 2D array to store the teams in each group\n",
    "      String[][] groups = new String[][] {\n",
    "        {\"Brazil\", \"Croatia\", \"Mexico\", \"Cameroon\"},\n",
    "        {\"Spain\", \"Netherlands\", \"Chile\", \"Australia\"},\n",
    "        {\"Colombia\", \"Greece\", \"Ivory Coast\", \"Japan\"},\n",
    "        {\"Uruguay\", \"Costa Rica\", \"England\", \"Italy\"},\n",
    "        {\"Switzerland\", \"Ecuador\", \"France\", \"Honduras\"},\n",
    "        {\"Argentina\", \"Bosnia and Herzegovina\", \"Iran\", \"Nigeria\"},\n",
    "        {\"Germany\", \"Portugal\", \"Ghana\", \"USA\"},\n",
    "        {\"Belgium\", \"Algeria\", \"Russia\", \"Korea Republic\"}\n",
    "      };\n",
    "  \n",
    "      // Print the teams in each group\n",
    "      for (int i = 0; i < groups.length; i++) {\n",
    "        System.out.println(\"Group \" + (i + 1) + \": \" + Arrays.toString(groups[i]));\n",
    "      }\n",
    "    }\n",
    "  }\n",
    "\n",
    "  WorldCup.main(null);"
   ]
  },
  {
   "attachments": {},
   "cell_type": "markdown",
   "metadata": {},
   "source": [
    "In this program, a 2D array called groups is created to store the teams in each group. The array has 8 rows, one for each group, and 4 columns, one for each team in each group. The teams in each group are then printed using a for loop.\n",
    "\n",
    "Note that this is just one way to create and use a 2D array in a World Cup program. There are many other ways to do this depending on the specific requirements of the program.\n",
    "\n",
    "\n",
    "\n"
   ]
  }
 ],
 "metadata": {
  "kernelspec": {
   "display_name": "Java",
   "language": "java",
   "name": "java"
  },
  "language_info": {
   "codemirror_mode": "java",
   "file_extension": ".jshell",
   "mimetype": "text/x-java-source",
   "name": "Java",
   "pygments_lexer": "java",
   "version": "18.0.2.1+1-1"
  },
  "orig_nbformat": 4
 },
 "nbformat": 4,
 "nbformat_minor": 2
}
