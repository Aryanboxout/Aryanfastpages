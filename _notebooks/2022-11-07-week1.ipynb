{
 "cells": [
  {
   "cell_type": "markdown",
   "metadata": {},
   "source": [
    "# week 1-Primitives\n",
    "\n",
    "WEEK 1 PRIMITIVES\n",
    "\n",
    "Notes\n",
    "\n",
    "Primitives\n",
    "\n",
    "Primitive types are the most basic data types available within the Java language. There are 8: boolean, byte, char, short, int, long, float and double. These types serve as the building blocks of data manipulation in Java. Such types serve only one purpose — containing pure, simple values of a kind. Because these data types are defined into the Java type system by default, they come with a number of operations predefined. You can not define a new operation for such primitive types. In the Java type system, there are three further categories of primitives:\n",
    "\n",
    "\n"
   ]
  },
  {
   "cell_type": "markdown",
   "metadata": {},
   "source": [
    "Casting\n",
    "\n",
    "The process of converting one data type to another is called casting. Casting is often necessary when a function returns a data of type in different form then we need to perform an operation. Under certain circumstances Type conversion can be carried out automatically, in other cases it must be “forced” manually (explicitly). For example, the read() member function of the standard input stream (System.in) returns an int. If we want to store data of type int returned by read() into a variable of char type, we need to cast it :"
   ]
  },
  {
   "cell_type": "markdown",
   "metadata": {},
   "source": [
    "Wide type casting example"
   ]
  },
  {
   "cell_type": "code",
   "execution_count": 1,
   "metadata": {
    "vscode": {
     "languageId": "java"
    }
   },
   "outputs": [
    {
     "name": "stdout",
     "output_type": "stream",
     "text": [
      "The integer value: 10\n",
      "The double value: 10.0\n"
     ]
    }
   ],
   "source": [
    "class Main {\n",
    "    public static void main(String[] args) {\n",
    "      // create int type variable\n",
    "      int num = 10;\n",
    "      System.out.println(\"The integer value: \" + num);\n",
    "  \n",
    "      // convert into double type\n",
    "      double data = num;\n",
    "      System.out.println(\"The double value: \" + data);\n",
    "    }\n",
    "  }\n",
    "\n",
    "  \n",
    "Main.main(null)\n"
   ]
  },
  {
   "cell_type": "markdown",
   "metadata": {},
   "source": [
    "Narrow type casting\n",
    "\n",
    "Casting with rounding\n",
    "\n",
    "The English meaning of truncate is to trim or prune, or cut something and the process of trimming is called truncation. In the computer science field, the term is often used in reference to data-types or variables (like String, floating-point numbers, etc.). It is a way of approximation. Let's discuss what is truncation in Java and how can we truncate a floating or double-type number through a Java program.\n",
    "\n",
    "Truncation\n",
    "In Java programming, truncation means to trim some digits of a float or double-type number or some characters of a string from the right. We can also truncate the decimal portion completely that makes it an integer. Remember that after truncation, the number will not be round to its nearest value. Hence, truncation is a way of approximation.\n",
    "\n",
    "It is usually used in computing (especially in database and programming) when division is done with integers and the results must be an integer."
   ]
  },
  {
   "cell_type": "code",
   "execution_count": 2,
   "metadata": {
    "vscode": {
     "languageId": "java"
    }
   },
   "outputs": [
    {
     "name": "stdout",
     "output_type": "stream",
     "text": [
      "The double value: 10.99\n",
      "The integer value: 10\n"
     ]
    }
   ],
   "source": [
    "class Main {\n",
    "    public static void main(String[] args) {\n",
    "      // create double type variable\n",
    "      double num = 10.99;\n",
    "      System.out.println(\"The double value: \" + num);\n",
    "  \n",
    "      // convert into int type\n",
    "      int data = (int)num;\n",
    "      System.out.println(\"The integer value: \" + data);\n",
    "    }\n",
    "  }\n",
    "  Main.main(null)"
   ]
  },
  {
   "cell_type": "markdown",
   "metadata": {},
   "source": [
    "Operator\tOperation\n",
    "+\tAddition\n",
    "-\tSubtraction\n",
    "*\tMultiplication\n",
    "/\tDivision\n",
    "%\tModulo Operation (Remainder after division)"
   ]
  },
  {
   "cell_type": "markdown",
   "metadata": {},
   "source": [
    "Homework\n",
    "\n",
    "2006 FRQ  2a and 3a\n",
    "\n",
    "[2006 FRQ  College Board direct questions](https://secure-media.collegeboard.org/apc/_ap06_frq_computer_sc_51649.pdf)\n",
    "\n",
    "\n",
    "\n",
    "\n",
    "[frq scoring guidlines](https://secure-media.collegeboard.org/apc/_ap06_compsci_a_sg.pdf)"
   ]
  },
  {
   "cell_type": "code",
   "execution_count": 2,
   "metadata": {
    "vscode": {
     "languageId": "java"
    }
   },
   "outputs": [
    {
     "data": {
      "text/plain": [
       "8.450000000000001"
      ]
     },
     "execution_count": 2,
     "metadata": {},
     "output_type": "execute_result"
    }
   ],
   "source": [
    "// 2A\n",
    "public double purchasePrice(double x){\n",
    "  x *= 1.3; \n",
    "  return x;\n",
    "}\n",
    "\n",
    "purchasePrice(6.50);"
   ]
  },
  {
   "cell_type": "markdown",
   "metadata": {},
   "source": [
    "Casting truncated"
   ]
  },
  {
   "cell_type": "code",
   "execution_count": 1,
   "metadata": {
    "vscode": {
     "languageId": "java"
    }
   },
   "outputs": [
    {
     "name": "stdout",
     "output_type": "stream",
     "text": [
      "5.0/3 = 1.6666666666666667\n",
      "5/3 truncated: 1\n",
      "5.0/3 rounded to nearest int: 2\n",
      "-5.0/3 rounded to nearest negative int: -2\n"
     ]
    }
   ],
   "source": [
    "public class NearestInt\n",
    "{\n",
    "   public static void main(String[] args)\n",
    "   {\n",
    "     double number = 5.0 / 3;\n",
    "     int nearestInt = (int)(number + 0.5);\n",
    "     System.out.println(\"5.0/3 = \" + number);\n",
    "     System.out.println(\"5/3 truncated: \" + (int)number );\n",
    "     System.out.println(\"5.0/3 rounded to nearest int: \" + nearestInt);\n",
    "     double negNumber = -number;\n",
    "     int nearestNegInt = (int)(negNumber - 0.5);\n",
    "     System.out.println(\"-5.0/3 rounded to nearest negative int: \" + nearestNegInt);\n",
    "   }\n",
    " }\n",
    "\n",
    " NearestInt.main(null)"
   ]
  },
  {
   "cell_type": "code",
   "execution_count": 4,
   "metadata": {
    "vscode": {
     "languageId": "java"
    }
   },
   "outputs": [
    {
     "name": "stdout",
     "output_type": "stream",
     "text": [
      "0\n",
      "-1\n",
      "-2\n"
     ]
    }
   ],
   "source": [
    "// 3A\n",
    "public class Customer {\n",
    "    private String name;\n",
    "    private int id;\n",
    "    \n",
    "    public Customer(String name, int idNum){\n",
    "        this.name = name;\n",
    "        this.id = idNum;\n",
    "        \n",
    "    };\n",
    "\n",
    "    public String getName(){\n",
    "        return name;\n",
    "    };\n",
    "\n",
    "    public int getID(){\n",
    "        return id;\n",
    "    };\n",
    "\n",
    "    public void compareCustomer(Customer x){\n",
    "        System.out.println(id - x.id);\n",
    "        \n",
    "    };\n",
    "    \n",
    "}\n",
    "\n",
    "Customer c1 = new Customer(\"Smith\", 1001);\n",
    "Customer c2 = new Customer(\"Anderson\", 1002);\n",
    "Customer c3 = new Customer(\"Smith\", 1003);\n",
    "\n",
    "c1.compareCustomer(c1);\n",
    "c1.compareCustomer(c2);\n",
    "c1.compareCustomer(c3);"
   ]
  },
  {
   "cell_type": "markdown",
   "metadata": {},
   "source": [
    "Wrapper Classes\n",
    "\n",
    "Wrapper classes provide a way to use primitive data types (int, boolean, etc..) as objects.\n",
    "\n",
    "The table below shows the primitive type and the equivalent wrapper class:\n",
    "\n",
    "\n",
    "\n",
    "Why Wrap It???\n",
    "\n",
    "Sometimes you must use wrapper classes, for example when working with Collection objects, such as ArrayList, where primitive types cannot be used (the list can only store objects):\n",
    "\n",
    "They convert primitive data types into objects. Objects are needed if we wish to modify the arguments passed into a method (because primitive types are passed by value).\n",
    "The classes in java.util package handles only objects and hence wrapper classes help in this case also.\n",
    "Data structures in the Collection framework, such as ArrayList and Vector, store only objects (reference types) and not primitive types.\n",
    "An object is needed to support synchronization in multithreading.\n",
    "\n",
    "\n",
    "Primitive Data Type\tWrapper Class\n",
    "\n",
    "KEY\n",
    "\n",
    "\n",
    "byte\tByte\n",
    "short\tShort\n",
    "int\tInteger\n",
    "long\tLong\n",
    "float\tFloat\n",
    "double\tDouble\n",
    "boolean\tBoolean\n",
    "char\tCharacter\n",
    "\n",
    "\n",
    "Creating wrapper objects\n",
    "\n",
    "\n"
   ]
  },
  {
   "cell_type": "code",
   "execution_count": 2,
   "metadata": {
    "vscode": {
     "languageId": "java"
    }
   },
   "outputs": [
    {
     "name": "stdout",
     "output_type": "stream",
     "text": [
      "5\n",
      "5.99\n",
      "A\n"
     ]
    }
   ],
   "source": [
    "public class Main {\n",
    "    public static void main(String[] args) {\n",
    "      Integer myInt = 5;\n",
    "      Double myDouble = 5.99;\n",
    "      Character myChar = 'A';\n",
    "      System.out.println(myInt);\n",
    "      System.out.println(myDouble);\n",
    "      System.out.println(myChar);\n",
    "    }\n",
    "  }\n",
    "\n",
    "  Main.main(null);"
   ]
  },
  {
   "cell_type": "markdown",
   "metadata": {},
   "source": [
    " \n",
    " Concatenation\n",
    "\n",
    "\n",
    "Concatenation is the process of combining two or more strings to form a new string by subsequently appending the next string to the end of the previous strings. In Java, two strings can be concatenated by using the + or += operator, or through the concat() method, defined in the java. lang. String class\n",
    "\n",
    "\n",
    "Example with strings"
   ]
  },
  {
   "cell_type": "code",
   "execution_count": 9,
   "metadata": {
    "vscode": {
     "languageId": "java"
    }
   },
   "outputs": [
    {
     "name": "stdout",
     "output_type": "stream",
     "text": [
      " Sachin Tendulkar\n",
      "Aryan Maulik Shah\n",
      "Aryan Maulik Shah Sachin Tendulkar\n"
     ]
    }
   ],
   "source": [
    "class Main{  \n",
    "    public static void main(String args[]){  \n",
    "      String s=\" Sachin\"+\" Tendulkar\";  \n",
    "      System.out.println(s);//Sachin Tendulkar  \n",
    "\n",
    "      String f=\"Aryan\"+\" Maulik\"+\" Shah\"; \n",
    "      System.out.println(f);\n",
    "\n",
    "\n",
    "      // Concatenation with direct variables\n",
    "String g=f+s;\n",
    "System.out.println(g);\n",
    "\n",
    "    }  \n",
    "   }  \n",
    "   Main.main(null)"
   ]
  },
  {
   "cell_type": "markdown",
   "metadata": {},
   "source": [
    "Also Possible to do Concatenation with integers into a string"
   ]
  },
  {
   "cell_type": "code",
   "execution_count": 13,
   "metadata": {
    "vscode": {
     "languageId": "java"
    }
   },
   "outputs": [
    {
     "name": "stdout",
     "output_type": "stream",
     "text": [
      "50 Aryan 9540\n"
     ]
    }
   ],
   "source": [
    "class Main{  \n",
    "    public static void main(String args[]){  \n",
    "\n",
    "      \n",
    "      String s=20+30+\" Aryan \"+95+40;  \n",
    "      System.out.println(s);//80Sachin4040  \n",
    "    }  \n",
    "   }  \n",
    "\n",
    "   Main.main(null)"
   ]
  }
 ],
 "metadata": {
  "kernelspec": {
   "display_name": "Java",
   "language": "java",
   "name": "java"
  },
  "language_info": {
   "codemirror_mode": "java",
   "file_extension": ".jshell",
   "mimetype": "text/x-java-source",
   "name": "Java",
   "pygments_lexer": "java",
   "version": "18.0.2.1+1-1"
  },
  "orig_nbformat": 4
 },
 "nbformat": 4,
 "nbformat_minor": 2
}
