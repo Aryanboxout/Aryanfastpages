{
 "cells": [
  {
   "cell_type": "markdown",
   "metadata": {},
   "source": [
    "# week 1-Primitives\n",
    "\n",
    "WEEK 1 PRIMITIVES\n",
    "\n",
    "Notes\n",
    "\n",
    "Primitives\n",
    "\n",
    "Primitive types are the most basic data types available within the Java language. There are 8: boolean, byte, char, short, int, long, float and double. These types serve as the building blocks of data manipulation in Java. Such types serve only one purpose — containing pure, simple values of a kind. Because these data types are defined into the Java type system by default, they come with a number of operations predefined. You can not define a new operation for such primitive types. In the Java type system, there are three further categories of primitives:\n",
    "\n",
    "\n"
   ]
  },
  {
   "cell_type": "markdown",
   "metadata": {},
   "source": [
    "Casting\n",
    "\n",
    "The process of converting one data type to another is called casting. Casting is often necessary when a function returns a data of type in different form then we need to perform an operation. Under certain circumstances Type conversion can be carried out automatically, in other cases it must be “forced” manually (explicitly). For example, the read() member function of the standard input stream (System.in) returns an int. If we want to store data of type int returned by read() into a variable of char type, we need to cast it :"
   ]
  },
  {
   "cell_type": "markdown",
   "metadata": {},
   "source": [
    "Wide type casting example"
   ]
  },
  {
   "cell_type": "code",
   "execution_count": 1,
   "metadata": {
    "vscode": {
     "languageId": "java"
    }
   },
   "outputs": [
    {
     "name": "stdout",
     "output_type": "stream",
     "text": [
      "The integer value: 10\n",
      "The double value: 10.0\n"
     ]
    }
   ],
   "source": [
    "class Main {\n",
    "    public static void main(String[] args) {\n",
    "      // create int type variable\n",
    "      int num = 10;\n",
    "      System.out.println(\"The integer value: \" + num);\n",
    "  \n",
    "      // convert into double type\n",
    "      double data = num;\n",
    "      System.out.println(\"The double value: \" + data);\n",
    "    }\n",
    "  }\n",
    "\n",
    "  \n",
    "Main.main(null)\n"
   ]
  },
  {
   "cell_type": "markdown",
   "metadata": {},
   "source": [
    "Narrow type casting"
   ]
  },
  {
   "cell_type": "code",
   "execution_count": 2,
   "metadata": {
    "vscode": {
     "languageId": "java"
    }
   },
   "outputs": [
    {
     "name": "stdout",
     "output_type": "stream",
     "text": [
      "The double value: 10.99\n",
      "The integer value: 10\n"
     ]
    }
   ],
   "source": [
    "class Main {\n",
    "    public static void main(String[] args) {\n",
    "      // create double type variable\n",
    "      double num = 10.99;\n",
    "      System.out.println(\"The double value: \" + num);\n",
    "  \n",
    "      // convert into int type\n",
    "      int data = (int)num;\n",
    "      System.out.println(\"The integer value: \" + data);\n",
    "    }\n",
    "  }\n",
    "  Main.main(null)"
   ]
  },
  {
   "cell_type": "markdown",
   "metadata": {},
   "source": [
    "Operator\tOperation\n",
    "+\tAddition\n",
    "-\tSubtraction\n",
    "*\tMultiplication\n",
    "/\tDivision\n",
    "%\tModulo Operation (Remainder after division)"
   ]
  },
  {
   "cell_type": "markdown",
   "metadata": {},
   "source": [
    "Homework\n",
    "\n",
    "2006 FRQ  2a and 3a\n",
    "\n",
    "[2006 FRQ  College Board direct questions](https://secure-media.collegeboard.org/apc/_ap06_frq_computer_sc_51649.pdf)\n",
    "\n",
    "\n",
    "\n",
    "\n",
    "[frq scoring guidlines](https://secure-media.collegeboard.org/apc/_ap06_compsci_a_sg.pdf)"
   ]
  },
  {
   "cell_type": "code",
   "execution_count": 2,
   "metadata": {
    "vscode": {
     "languageId": "java"
    }
   },
   "outputs": [
    {
     "data": {
      "text/plain": [
       "8.450000000000001"
      ]
     },
     "execution_count": 2,
     "metadata": {},
     "output_type": "execute_result"
    }
   ],
   "source": [
    "// 2A\n",
    "public double purchasePrice(double x){\n",
    "  x *= 1.3; \n",
    "  return x;\n",
    "}\n",
    "\n",
    "purchasePrice(6.50);"
   ]
  },
  {
   "cell_type": "code",
   "execution_count": 4,
   "metadata": {
    "vscode": {
     "languageId": "java"
    }
   },
   "outputs": [
    {
     "name": "stdout",
     "output_type": "stream",
     "text": [
      "0\n",
      "-1\n",
      "-2\n"
     ]
    }
   ],
   "source": [
    "// 3A\n",
    "public class Customer {\n",
    "    private String name;\n",
    "    private int id;\n",
    "    \n",
    "    public Customer(String name, int idNum){\n",
    "        this.name = name;\n",
    "        this.id = idNum;\n",
    "        \n",
    "    };\n",
    "\n",
    "    public String getName(){\n",
    "        return name;\n",
    "    };\n",
    "\n",
    "    public int getID(){\n",
    "        return id;\n",
    "    };\n",
    "\n",
    "    public void compareCustomer(Customer x){\n",
    "        System.out.println(id - x.id);\n",
    "        \n",
    "    };\n",
    "    \n",
    "}\n",
    "\n",
    "Customer c1 = new Customer(\"Smith\", 1001);\n",
    "Customer c2 = new Customer(\"Anderson\", 1002);\n",
    "Customer c3 = new Customer(\"Smith\", 1003);\n",
    "\n",
    "c1.compareCustomer(c1);\n",
    "c1.compareCustomer(c2);\n",
    "c1.compareCustomer(c3);"
   ]
  }
 ],
 "metadata": {
  "kernelspec": {
   "display_name": "Java",
   "language": "java",
   "name": "java"
  },
  "language_info": {
   "codemirror_mode": "java",
   "file_extension": ".jshell",
   "mimetype": "text/x-java-source",
   "name": "Java",
   "pygments_lexer": "java",
   "version": "18.0.2.1+1-1"
  },
  "orig_nbformat": 4
 },
 "nbformat": 4,
 "nbformat_minor": 2
}
