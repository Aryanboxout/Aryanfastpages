{
 "cells": [
  {
   "cell_type": "markdown",
   "metadata": {},
   "source": [
    "Array vs arraylist in java\n",
    "\n",
    "-The primary difference between array and arraylist is that arraylist can grow and shrink dynamically while an array cannot. \n",
    "\n",
    "-An array has a fixed length so if it is full you cannot add any more elements to it. Similarly, if number of elements are removed from ArrayList, the memory consumption remains same as it doesn’t shrink.\n",
    "\n",
    "-On the other hand, ArrayList can dynamically grow and shrink after addition and removal of elements. ArrayList class has several useful methods that can make our task easy."
   ]
  },
  {
   "cell_type": "markdown",
   "metadata": {},
   "source": [
    "ArrayList in Java\n",
    "\n",
    "ArrayList can grow and shrink automatically based on the addition and removal of elements.\n",
    "ArrayList can contain duplicate elements\n",
    "ArrayList maintains the insertion order, which means the elements appear in the same order in which they are inserted.\n",
    "ArrayList is non synchronized. However you can make it synchronized.\n"
   ]
  },
  {
   "cell_type": "markdown",
   "metadata": {},
   "source": [
    "One can add elements by using Add new elements to an ArrayList using the add() method.\n",
    "\n",
    "\n",
    "check if an ArrayList is empty using the isEmpty() method.\n",
    "\n",
    " access the element at a particular index in an ArrayList using the get() method\n",
    "\n",
    " modify the element at a particular index in an ArrayList using the set() method."
   ]
  },
  {
   "cell_type": "code",
   "execution_count": 3,
   "metadata": {},
   "outputs": [
    {
     "name": "stdout",
     "output_type": "stream",
     "text": [
      "Breakfast: Protein Pancakes and protein shake\n",
      "Dinner: Mexican bown with beans\n",
      "Lunch: Carbs- pasta arriabata with legumes\n",
      "Snack: Peanut butter shake and bannana\n"
     ]
    }
   ],
   "source": [
    "import java.util.ArrayList;\n",
    "import java.util.Collections;\n",
    "\n",
    "public class Main { \n",
    "  public static void main(String[] args) { \n",
    "    ArrayList<String> cars = new ArrayList<String>();\n",
    "    cars.add(\"Breakfast: Protein Pancakes and protein shake\");\n",
    "    cars.add(\"Lunch: Carbs- pasta arriabata with legumes\");\n",
    "    cars.add(\"Snack: Peanut butter shake and bannana\");\n",
    "    cars.add(\"Dinner: Mexican bown with beans\");\n",
    "    \n",
    "    Collections.sort(cars);\n",
    "\n",
    "    for (String i : cars) {\n",
    "      System.out.println(i);\n",
    "    }\n",
    "  } \n",
    "}\n",
    "\n",
    "Main.main(null)\n",
    "\n"
   ]
  },
  {
   "cell_type": "markdown",
   "metadata": {},
   "source": [
    "Practice towards array item changes, removal, etc."
   ]
  },
  {
   "cell_type": "code",
   "execution_count": 8,
   "metadata": {},
   "outputs": [
    {
     "name": "stdout",
     "output_type": "stream",
     "text": [
      "Breakfast: Protein Pancakes and protein shake\n",
      "Dinner: Mexican bown with beans\n",
      "Snack is now popcorn\n",
      "Snack: Peanut butter shake and bannana\n"
     ]
    }
   ],
   "source": [
    "import java.util.ArrayList;\n",
    "import java.util.Collections;\n",
    "\n",
    "public class Main { \n",
    "  public static void main(String[] args) { \n",
    "    ArrayList<String> cars = new ArrayList<String>();\n",
    "    cars.add(\"Breakfast: Protein Pancakes and protein shake\");\n",
    "    cars.add(\"Lunch: Carbs- pasta arriabata with legumes\");\n",
    "    cars.add(\"Snack: Peanut butter shake and bannana\");\n",
    "    cars.add(\"Dinner: Mexican bown with beans\");\n",
    "    \n",
    "    Collections.sort(cars);\n",
    "    cars.set(2, \"Snack is now popcorn\"); //set changes the index value 2 which is the third item in the array in this case snack\n",
    "    cars.size();\n",
    "    for (String i : cars) {\n",
    "      System.out.println(i);\n",
    "    }\n",
    "  } \n",
    " \n",
    "}\n",
    "\n",
    "Main.main(null)\n",
    "\n"
   ]
  },
  {
   "cell_type": "markdown",
   "metadata": {},
   "source": [
    "Now I will create a array geared towards usage in my PBL"
   ]
  },
  {
   "cell_type": "code",
   "execution_count": 9,
   "metadata": {},
   "outputs": [
    {
     "name": "stdout",
     "output_type": "stream",
     "text": [
      "[Day 1, Day 2, Day 3, day 4]\n",
      "Enter Day 1-4:\n",
      "Day chosen 1\n",
      "Todays push\n",
      " 1: Bench press 6 sets\n",
      "rest\n",
      " 2: Push ups 30 reps 3 sets\n",
      "rest\n",
      " 3: shoulder press 5 sets\n",
      "rest\n",
      " 4: Incline bench\n",
      "rest\n"
     ]
    }
   ],
   "source": [
    "import java.util.ArrayList;\n",
    "import java.util.Collections;\n",
    "import java.util.Scanner;\n",
    "\n",
    "public class workoutplan {\n",
    "    public static void main(String[] args) { \n",
    "        ArrayList days= new ArrayList();\n",
    "        days.add(\"Day 1\");\n",
    "        days.add(\"Day 2\");\n",
    "        days.add(\"Day 3\");\n",
    "        days.add(\"day 4\");\n",
    "        System.out.println(days);\n",
    "        Scanner myObj = new Scanner(System.in);  // Create a Scanner object\n",
    "        System.out.println(\"Enter Day 1-4:\");\n",
    "       String usr = myObj.nextLine();  // Read user input\n",
    "      System.out.println(\"Day chosen \" + usr);  // Output user input\n",
    "      \n",
    "      int num=Integer.parseInt(usr);  \n",
    "\n",
    " \n",
    "\n",
    "      if(num == 1){\n",
    "        System.out.println(\"Todays push\");\n",
    "        ArrayList<String> lifts = new ArrayList<String>();\n",
    "        lifts.add(\" 1: Bench press 6 sets\");\n",
    "         lifts.add(\" 2: Push ups 30 reps 3 sets\");\n",
    "        lifts.add(\" 3: shoulder press 5 sets\");\n",
    "        lifts.add(\" 4: Incline bench\");\n",
    "        lifts.add(\" 5: Incline Dumbell press\");\n",
    "        lifts.add(\" 6: Rest\");  \n",
    "        lifts.add(\" 7: Normal dumbell press\"); \n",
    "        lifts.add(\" 8: Chest machine\"); \n",
    "        lifts.add(\" 9: Incline chest machine\");\n",
    "        for(int i=0; i<days.size(); i++ ) {\n",
    "          System.out.println(lifts.get(i));\n",
    "          System.out.println(\"rest\");\n",
    "        }\n",
    "      }\n",
    "\n",
    "        if(num == 2){\n",
    "            System.out.println(\"Todays push\");\n",
    "            ArrayList<String> lifts = new ArrayList<String>();\n",
    "            lifts.add(\" 1: Pull up 6 sets\");\n",
    "             lifts.add(\" 2: Bicept curls 10 reps 3 sets\");\n",
    "            lifts.add(\" 3: tricept extensions 5 sets\");\n",
    "            lifts.add(\" 4: Back Machine 5 sets\");\n",
    "            lifts.add(\" 5: Lat pulldowns 5 sets\");\n",
    "            lifts.add(\" 6: chin up 5 sets\");\n",
    "            lifts.add(\" 7: Rest\");\n",
    "            lifts.add(\" 8: Dumbell Rows\");\n",
    "            lifts.add(\" 9: Bicept machine\");\n",
    "            for(int i=0; i<days.size(); i++ ) {\n",
    "              System.out.println(lifts.get(i));\n",
    "              System.out.println(\"rest\");\n",
    "            }\n",
    "\n",
    "      }\n",
    "\n",
    "      if(num == 3){\n",
    "        System.out.println(\"Todays a rest day!!\");\n",
    "        \n",
    "      }\n",
    "\n",
    "      if(num == 4){\n",
    "        System.out.println(\"Todays List\");\n",
    "        ArrayList<String> lifts = new ArrayList<String>();\n",
    "        lifts.add(\" 1: Squats 6 sets\");\n",
    "         lifts.add(\" 2: Lunges 10 reps 3 sets\");\n",
    "        lifts.add(\" 3: Deadlifts 5 sets\");\n",
    "        lifts.add(\" 4: Leg press\");\n",
    "        lifts.add(\" 5: Jump lunges\");\n",
    "        lifts.add(\" 6: Deadlifts\");\n",
    "        lifts.add(\" 7: Leg machine\");\n",
    "        lifts.add(\" 8: Hip thrusts\");\n",
    "      \n",
    "     \n",
    "        for(int i=0; i<days.size(); i++ ) {\n",
    "          System.out.println(lifts.get(i));\n",
    "          System.out.println(\"rest\");\n",
    "        }\n",
    "\n",
    "  }\n",
    "\n",
    "  \n",
    "\n",
    "\n",
    "\n",
    "      \n",
    "\n",
    "    }\n",
    "\n",
    "    \n",
    "}\n",
    "\n",
    "workoutplan.main(null);\n",
    "\n",
    "/*Scanner onj = new Scanner(System.in);  // Create a Scanner object\n",
    "        System.out.println(\"Add day 5 for extra work out: Y or N\");\n",
    "        String five = onj.nextLine();  // Read user input\n",
    "       String yes= Y;\n",
    "       if(five.equals(yes)){\n",
    "\n",
    "        days.add(\"day 5\");\n",
    "        system.out.println(days)\n",
    "\n",
    "       }\n",
    "       else{\n",
    "\n",
    "system.out.println(\"Don't be lazy SMH\")\n",
    "\n",
    "       } */\n"
   ]
  }
 ],
 "metadata": {
  "kernelspec": {
   "display_name": "Java",
   "language": "java",
   "name": "java"
  },
  "language_info": {
   "codemirror_mode": "java",
   "file_extension": ".jshell",
   "mimetype": "text/x-java-source",
   "name": "java",
   "pygments_lexer": "java",
   "version": "18.0.2.1+1-1"
  },
  "orig_nbformat": 4
 },
 "nbformat": 4,
 "nbformat_minor": 2
}
