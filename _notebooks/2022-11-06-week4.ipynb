{
 "cells": [
  {
   "cell_type": "markdown",
   "metadata": {},
   "source": [
    "# week 4- iteration\n",
    "\n",
    "The java programming language provides a set of iterative statements that are used to execute a statement or a block of statements repeatedly as long as the given condition is true. The iterative statements are also known as looping statements or repetitive statements. Java provides the following iterative statements.\n",
    "\n",
    "while statement\n",
    "do-while statement\n",
    "for statement\n",
    "for-each statement\n",
    "while statement in java\n",
    "The while statement is used to execute a single statement or block of statements repeatedly as long as the given condition is TRUE. The while statement is also known as Entry control looping statement. The syntax and execution flow of while statement is as follows.\n",
    "\n",
    "\n",
    "While Loop\n",
    "A sequence of code that loops itself while a specified condition is met. If the condition is no longer true then the loop will stop. Can be used for input validation as well."
   ]
  },
  {
   "cell_type": "markdown",
   "metadata": {},
   "source": [
    "recursive loop \n",
    "\n",
    "is said to have occurred when a function, module or an entity keeps making calls to itself repeatedly, thus forming an almost never-ending loop."
   ]
  },
  {
   "cell_type": "markdown",
   "metadata": {},
   "source": [
    "For Loop\n",
    "\n",
    "A sequence of code that loops itself for as long as a condition is met. If the condition is no longer true the loop will stop."
   ]
  },
  {
   "cell_type": "markdown",
   "metadata": {},
   "source": [
    "Recursion Loop\n",
    "Similar to For Loop and While Loop, recursion also repeats itself over and over again. The difference is that for recursion, a function calls itself to repeat (recurses).\n"
   ]
  },
  {
   "cell_type": "markdown",
   "metadata": {},
   "source": [
    "Nested Iteration\n",
    "\n",
    "Nested iterations is when you put a loop inside of another loop. Any of the 3 loops mentioned earlier are usable. It’s less of a java method and more of a technique coders know and utilize."
   ]
  },
  {
   "cell_type": "markdown",
   "metadata": {},
   "source": [
    "Java program to Demonstrate Iterator"
   ]
  },
  {
   "cell_type": "code",
   "execution_count": 2,
   "metadata": {},
   "outputs": [
    {
     "name": "stdout",
     "output_type": "stream",
     "text": [
      "[0, 1, 2, 3, 4, 5, 6, 7, 8, 9]\n",
      "0 1 2 3 4 5 6 7 8 9 \n",
      "[0, 2, 4, 6, 8]\n"
     ]
    }
   ],
   "source": [
    "\n",
    "\n",
    "// Importing ArrayList and Iterator classes\n",
    "// from java.util package\n",
    "import java.util.ArrayList;\n",
    "import java.util.Iterator;\n",
    "\n",
    "// Main class\n",
    "public class Test {\n",
    "\t// Main driver method\n",
    "\tpublic static void main(String[] args)\n",
    "\t{\n",
    "\t\t// Creating an ArrayList class object\n",
    "\t\t// Declaring object of integer type\n",
    "\t\tArrayList<Integer> al = new ArrayList<Integer>();\n",
    "\n",
    "\t\t// Iterating over the List\n",
    "\t\tfor (int i = 0; i < 10; i++)\n",
    "\t\t\tal.add(i);\n",
    "\n",
    "\t\t// Printing the elements in the List\n",
    "\t\tSystem.out.println(al);\n",
    "\n",
    "\t\t// At the beginning itr(cursor) will point to\n",
    "\t\t// index just before the first element in al\n",
    "\t\tIterator<Integer> itr = al.iterator();\n",
    "\n",
    "\t\t// Checking the next element where\n",
    "\t\t// condition holds true till there is single element\n",
    "\t\t// in the List using hasnext() method\n",
    "\t\twhile (itr.hasNext()) {\n",
    "\t\t\t// Moving cursor to next element\n",
    "\t\t\tint i = itr.next();\n",
    "\n",
    "\t\t\t// Getting elements one by one\n",
    "\t\t\tSystem.out.print(i + \" \");\n",
    "\n",
    "\t\t\t// Removing odd elements\n",
    "\t\t\tif (i % 2 != 0)\n",
    "\t\t\t\titr.remove();\n",
    "\t\t}\n",
    "\n",
    "\t\t// Command for next line\n",
    "\t\tSystem.out.println();\n",
    "\n",
    "\t\t// Printing the elements inside the object\n",
    "\t\tSystem.out.println(al);\n",
    "\t}\n",
    "}\n",
    "\n",
    "\n",
    "Test.main(null)"
   ]
  },
  {
   "cell_type": "markdown",
   "metadata": {},
   "source": [
    "Homework"
   ]
  },
  {
   "cell_type": "markdown",
   "metadata": {},
   "source": [
    "Pop QUIZ \n",
    "\n",
    "simplify the code  using iteration"
   ]
  },
  {
   "cell_type": "code",
   "execution_count": null,
   "metadata": {},
   "outputs": [],
   "source": [
    "int i = 0;\n",
    "System.out.println(i);\n",
    "i++;\n",
    "System.out.println(i);\n",
    "i++;\n",
    "System.out.println(i);\n",
    "i++;\n",
    "System.out.println(i);\n",
    "i++;\n",
    "System.out.println(i);\n",
    "i++;\n"
   ]
  },
  {
   "cell_type": "markdown",
   "metadata": {},
   "source": [
    "Simplifyed via iteration"
   ]
  },
  {
   "cell_type": "code",
   "execution_count": 1,
   "metadata": {},
   "outputs": [
    {
     "name": "stdout",
     "output_type": "stream",
     "text": [
      "0\n",
      "1\n",
      "2\n",
      "3\n",
      "4\n"
     ]
    }
   ],
   "source": [
    "public class Main { \n",
    "  \n",
    "    public static void main(String[] args) { \n",
    "   int i = 0;\n",
    "     while(i < 5){\n",
    "     System.out.println(i);\n",
    "      i++;\n",
    " \n",
    "   } \n",
    "       \n",
    "   \n",
    "     } \n",
    "   }\n",
    "   \n",
    "   \n",
    "   Main.main(null)\n",
    " \n",
    " "
   ]
  },
  {
   "cell_type": "markdown",
   "metadata": {},
   "source": [
    "Homework \n",
    "\n",
    "Quiz\n",
    "\n",
    "![quiz](iterations.png)"
   ]
  }
 ],
 "metadata": {
  "kernelspec": {
   "display_name": "Java",
   "language": "java",
   "name": "java"
  },
  "language_info": {
   "codemirror_mode": "java",
   "file_extension": ".jshell",
   "mimetype": "text/x-java-source",
   "name": "java",
   "pygments_lexer": "java",
   "version": "18.0.2.1+1-1"
  },
  "orig_nbformat": 4
 },
 "nbformat": 4,
 "nbformat_minor": 2
}
