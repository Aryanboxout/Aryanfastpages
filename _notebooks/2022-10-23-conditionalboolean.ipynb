{
 "cells": [
  {
   "cell_type": "markdown",
   "metadata": {},
   "source": [
    "Conditionals and Boolean notes\n",
    "\n",
    "The simplest if-statement has two parts – a boolean \"test\" within parentheses ( ) followed by \"body\" block of statements within curly braces { }. The test can be any expression that evaluates to a boolean value – true or false – value (boolean expressions are detailed below). The if-statement evaluates the test and then runs the body code only if the test is true. If the test is false, the body is skipped.\n",
    "Another common form of if-statement adds an \"else\" clause such as with the code below which prints one message or the other...\n",
    "\n",
    "\n",
    "Equality Operators ==, !=\n",
    "The == operator tests if two values are exactly the same, so (a == b) is true if a and b have exactly the same value. The not-equal operator, !=, is the opposite, evaluating to true if the values are different. We use == and != only with primitives such as int, never with objects like String and Color. With objects, we use the message equals() to test equality.\n",
    "The similarity of == and equals() can be confusing, so we use a simple rule: Every value in Java is either a primitive or an object. We use ==, <, >=, etc.. with primitives like int and double. We use equals() with objects like String and Color. Since the dereference dot (.) only works with objects, you can remember it this way: if it can take a dot then use equals() (e.g. a String), otherwise use == (e.g. an int).\n",
    "Doubles vs. ==\n",
    "The one addition to this rule is that we never use == or != with doubles, since the intrinsic little error term on every double value throws off the operation of ==. For example, summing up 1/10, 100 times may not exactly == 10.0. To compare two doubles, subtract one from the other, and then see if the difference is very small...\n",
    "\n"
   ]
  },
  {
   "cell_type": "code",
   "execution_count": null,
   "metadata": {},
   "outputs": [],
   "source": [
    "//Part A\n",
    "\n",
    "// returns true if the time interval of this Appointment\n",
    "  // overlaps with the time interval of other;\n",
    "  // otherwise, returns false\n",
    "public boolean conflictsWith(Appointment other)\n",
    "{\n",
    "  return getTime().overlapsWith(other.getTime());\n",
    "}\n"
   ]
  },
  {
   "cell_type": "code",
   "execution_count": null,
   "metadata": {},
   "outputs": [],
   "source": [
    "//Part B\n",
    "\n",
    "// removes all appointments that overlap the given Appointment\n",
    "  // postcondition: all appointments that have a time conflict with\n",
    "  //                appt have been removed from this DailySchedule\n",
    "public void clearConflicts(Appointment appt)\n",
    "  {\n",
    "    int i = 0;\n",
    "\n",
    "    while (i < apptList.size())\n",
    "    if (((Appointment)apptList.get(i)).conflictsWith(appt))\n",
    "      apptList.remove(i);\n",
    "    else\n",
    "      i++; 1\n",
    "  }"
   ]
  },
  {
   "cell_type": "code",
   "execution_count": null,
   "metadata": {},
   "outputs": [],
   "source": [
    "//Part C\n",
    " // if emergency is true, clears any overlapping appointments and adds\n",
    "  // appt to this DailySchedule; otherwise, if there are no conflicting\n",
    "  // appointments, adds appt to this DailySchedule;\n",
    "  // returns true if the appointment was added;\n",
    "  // otherwise, returns false\n",
    "  public boolean addAppt(Appointment appt, boolean emergency)\n",
    "  {\n",
    "    if (emergency)\n",
    "    {\n",
    "      clearConflicts(appt);\n",
    "      apptList.add(appt);\n",
    "      return true;\n",
    "    }\n",
    "\n",
    "    for (int i = 0; i < apptList.size(); i++)\n",
    "      if (((Appointment)apptList.get(i)).conflictsWith(appt))\n",
    "        return false;\n",
    "\n",
    "    apptList.add(appt);\n",
    "    return true;\n",
    "  }\n"
   ]
  }
 ],
 "metadata": {
  "kernelspec": {
   "display_name": "Java",
   "language": "java",
   "name": "java"
  },
  "language_info": {
   "name": "java"
  },
  "orig_nbformat": 4
 },
 "nbformat": 4,
 "nbformat_minor": 2
}
